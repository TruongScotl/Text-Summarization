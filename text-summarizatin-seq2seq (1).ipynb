{
 "cells": [
  {
   "cell_type": "code",
   "execution_count": 1,
   "id": "778c0404",
   "metadata": {
    "_cell_guid": "b1076dfc-b9ad-4769-8c92-a6c4dae69d19",
    "_uuid": "8f2839f25d086af736a60e9eeb907d3b93b6e0e5",
    "execution": {
     "iopub.execute_input": "2022-05-16T17:47:30.295038Z",
     "iopub.status.busy": "2022-05-16T17:47:30.294448Z",
     "iopub.status.idle": "2022-05-16T17:47:30.317863Z",
     "shell.execute_reply": "2022-05-16T17:47:30.316225Z"
    },
    "papermill": {
     "duration": 0.080927,
     "end_time": "2022-05-16T17:47:30.323355",
     "exception": false,
     "start_time": "2022-05-16T17:47:30.242428",
     "status": "completed"
    },
    "tags": []
   },
   "outputs": [
    {
     "name": "stdout",
     "output_type": "stream",
     "text": [
      "/kaggle/input/vietnew-csv/vietnew_dataset/val_tokenized\n",
      "/kaggle/input/vietnew-csv/vietnew_dataset/train_tokenized\n",
      "/kaggle/input/vietnew-csv/vietnew_dataset/test_tokenized\n"
     ]
    }
   ],
   "source": [
    "# This Python 3 environment comes with many helpful analytics libraries installed\n",
    "# It is defined by the kaggle/python Docker image: https://github.com/kaggle/docker-python\n",
    "# For example, here's several helpful packages to load\n",
    "\n",
    "import numpy as np # linear algebra\n",
    "import pandas as pd # data processing, CSV file I/O (e.g. pd.read_csv)\n",
    "\n",
    "# Input data files are available in the read-only \"../input/\" directory\n",
    "# For example, running this (by clicking run or pressing Shift+Enter) will list all files under the input directory\n",
    "\n",
    "import os\n",
    "for dirname, _, filenames in os.walk('/kaggle/input'):\n",
    "    for filename in filenames:\n",
    "        print(os.path.join(dirname, filename))\n",
    "\n",
    "# You can write up to 20GB to the current directory (/kaggle/working/) that gets preserved as output when you create a version using \"Save & Run All\" \n",
    "# You can also write temporary files to /kaggle/temp/, but they won't be saved outside of the current session"
   ]
  },
  {
   "cell_type": "code",
   "execution_count": 2,
   "id": "3841ae70",
   "metadata": {
    "execution": {
     "iopub.execute_input": "2022-05-16T17:47:30.388306Z",
     "iopub.status.busy": "2022-05-16T17:47:30.388111Z",
     "iopub.status.idle": "2022-05-16T17:47:30.391489Z",
     "shell.execute_reply": "2022-05-16T17:47:30.390741Z"
    },
    "papermill": {
     "duration": 0.037259,
     "end_time": "2022-05-16T17:47:30.393147",
     "exception": false,
     "start_time": "2022-05-16T17:47:30.355888",
     "status": "completed"
    },
    "tags": []
   },
   "outputs": [],
   "source": [
    "#!pip install https://github.com/trungtv/vi_spacy/raw/master/packages/vi_spacy_model-0.2.1/dist/vi_spacy_model-0.2.1.tar.gz"
   ]
  },
  {
   "cell_type": "code",
   "execution_count": 3,
   "id": "437bf888",
   "metadata": {
    "execution": {
     "iopub.execute_input": "2022-05-16T17:47:30.491818Z",
     "iopub.status.busy": "2022-05-16T17:47:30.491456Z",
     "iopub.status.idle": "2022-05-16T17:49:09.569556Z",
     "shell.execute_reply": "2022-05-16T17:49:09.568732Z"
    },
    "papermill": {
     "duration": 99.142065,
     "end_time": "2022-05-16T17:49:09.571931",
     "exception": false,
     "start_time": "2022-05-16T17:47:30.429866",
     "status": "completed"
    },
    "tags": []
   },
   "outputs": [
    {
     "name": "stdout",
     "output_type": "stream",
     "text": [
      "Collecting spacy==2.1.4\r\n",
      "  Downloading spacy-2.1.4-cp37-cp37m-manylinux1_x86_64.whl (29.8 MB)\r\n",
      "\u001b[2K     \u001b[90m━━━━━━━━━━━━━━━━━━━━━━━━━━━━━━━━━━━━━━━━\u001b[0m \u001b[32m29.8/29.8 MB\u001b[0m \u001b[31m24.6 MB/s\u001b[0m eta \u001b[36m0:00:00\u001b[0m\r\n",
      "\u001b[?25hCollecting preshed<2.1.0,>=2.0.1\r\n",
      "  Downloading preshed-2.0.1-cp37-cp37m-manylinux1_x86_64.whl (82 kB)\r\n",
      "\u001b[2K     \u001b[90m━━━━━━━━━━━━━━━━━━━━━━━━━━━━━━━━━━━━━━━━\u001b[0m \u001b[32m82.2/82.2 KB\u001b[0m \u001b[31m7.4 MB/s\u001b[0m eta \u001b[36m0:00:00\u001b[0m\r\n",
      "\u001b[?25hCollecting srsly<1.1.0,>=0.0.5\r\n",
      "  Downloading srsly-1.0.5-cp37-cp37m-manylinux2014_x86_64.whl (184 kB)\r\n",
      "\u001b[2K     \u001b[90m━━━━━━━━━━━━━━━━━━━━━━━━━━━━━━━━━━━━━━\u001b[0m \u001b[32m184.3/184.3 KB\u001b[0m \u001b[31m19.4 MB/s\u001b[0m eta \u001b[36m0:00:00\u001b[0m\r\n",
      "\u001b[?25hRequirement already satisfied: murmurhash<1.1.0,>=0.28.0 in /opt/conda/lib/python3.7/site-packages (from spacy==2.1.4) (1.0.7)\r\n",
      "Collecting thinc<7.1.0,>=7.0.2\r\n",
      "  Downloading thinc-7.0.8-cp37-cp37m-manylinux1_x86_64.whl (2.1 MB)\r\n",
      "\u001b[2K     \u001b[90m━━━━━━━━━━━━━━━━━━━━━━━━━━━━━━━━━━━━━━━━\u001b[0m \u001b[32m2.1/2.1 MB\u001b[0m \u001b[31m63.0 MB/s\u001b[0m eta \u001b[36m0:00:00\u001b[0m\r\n",
      "\u001b[?25hRequirement already satisfied: cymem<2.1.0,>=2.0.2 in /opt/conda/lib/python3.7/site-packages (from spacy==2.1.4) (2.0.6)\r\n",
      "Requirement already satisfied: wasabi<1.1.0,>=0.2.0 in /opt/conda/lib/python3.7/site-packages (from spacy==2.1.4) (0.9.1)\r\n",
      "Collecting jsonschema<3.1.0,>=2.6.0\r\n",
      "  Downloading jsonschema-3.0.2-py2.py3-none-any.whl (54 kB)\r\n",
      "\u001b[2K     \u001b[90m━━━━━━━━━━━━━━━━━━━━━━━━━━━━━━━━━━━━━━━━\u001b[0m \u001b[32m54.7/54.7 KB\u001b[0m \u001b[31m6.1 MB/s\u001b[0m eta \u001b[36m0:00:00\u001b[0m\r\n",
      "\u001b[?25hRequirement already satisfied: numpy>=1.15.0 in /opt/conda/lib/python3.7/site-packages (from spacy==2.1.4) (1.21.6)\r\n",
      "Collecting blis<0.3.0,>=0.2.2\r\n",
      "  Downloading blis-0.2.4-cp37-cp37m-manylinux1_x86_64.whl (3.2 MB)\r\n",
      "\u001b[2K     \u001b[90m━━━━━━━━━━━━━━━━━━━━━━━━━━━━━━━━━━━━━━━━\u001b[0m \u001b[32m3.2/3.2 MB\u001b[0m \u001b[31m34.4 MB/s\u001b[0m eta \u001b[36m0:00:00\u001b[0m\r\n",
      "\u001b[?25hCollecting plac<1.0.0,>=0.9.6\r\n",
      "  Downloading plac-0.9.6-py2.py3-none-any.whl (20 kB)\r\n",
      "Requirement already satisfied: requests<3.0.0,>=2.13.0 in /opt/conda/lib/python3.7/site-packages (from spacy==2.1.4) (2.27.1)\r\n",
      "Requirement already satisfied: attrs>=17.4.0 in /opt/conda/lib/python3.7/site-packages (from jsonschema<3.1.0,>=2.6.0->spacy==2.1.4) (21.4.0)\r\n",
      "Requirement already satisfied: six>=1.11.0 in /opt/conda/lib/python3.7/site-packages (from jsonschema<3.1.0,>=2.6.0->spacy==2.1.4) (1.16.0)\r\n",
      "Requirement already satisfied: setuptools in /opt/conda/lib/python3.7/site-packages (from jsonschema<3.1.0,>=2.6.0->spacy==2.1.4) (59.8.0)\r\n",
      "Requirement already satisfied: pyrsistent>=0.14.0 in /opt/conda/lib/python3.7/site-packages (from jsonschema<3.1.0,>=2.6.0->spacy==2.1.4) (0.18.1)\r\n",
      "Requirement already satisfied: idna<4,>=2.5 in /opt/conda/lib/python3.7/site-packages (from requests<3.0.0,>=2.13.0->spacy==2.1.4) (3.3)\r\n",
      "Requirement already satisfied: certifi>=2017.4.17 in /opt/conda/lib/python3.7/site-packages (from requests<3.0.0,>=2.13.0->spacy==2.1.4) (2021.10.8)\r\n",
      "Requirement already satisfied: charset-normalizer~=2.0.0 in /opt/conda/lib/python3.7/site-packages (from requests<3.0.0,>=2.13.0->spacy==2.1.4) (2.0.12)\r\n",
      "Requirement already satisfied: urllib3<1.27,>=1.21.1 in /opt/conda/lib/python3.7/site-packages (from requests<3.0.0,>=2.13.0->spacy==2.1.4) (1.26.8)\r\n",
      "Requirement already satisfied: tqdm<5.0.0,>=4.10.0 in /opt/conda/lib/python3.7/site-packages (from thinc<7.1.0,>=7.0.2->spacy==2.1.4) (4.63.0)\r\n",
      "Installing collected packages: srsly, plac, preshed, jsonschema, blis, thinc, spacy\r\n",
      "  Attempting uninstall: srsly\r\n",
      "    Found existing installation: srsly 2.4.3\r\n",
      "    Uninstalling srsly-2.4.3:\r\n",
      "      Successfully uninstalled srsly-2.4.3\r\n",
      "  Attempting uninstall: preshed\r\n",
      "    Found existing installation: preshed 3.0.6\r\n",
      "    Uninstalling preshed-3.0.6:\r\n",
      "      Successfully uninstalled preshed-3.0.6\r\n",
      "  Attempting uninstall: jsonschema\r\n",
      "    Found existing installation: jsonschema 4.4.0\r\n",
      "    Uninstalling jsonschema-4.4.0:\r\n",
      "      Successfully uninstalled jsonschema-4.4.0\r\n",
      "  Attempting uninstall: blis\r\n",
      "    Found existing installation: blis 0.7.7\r\n",
      "    Uninstalling blis-0.7.7:\r\n",
      "      Successfully uninstalled blis-0.7.7\r\n",
      "  Attempting uninstall: thinc\r\n",
      "    Found existing installation: thinc 8.0.15\r\n",
      "    Uninstalling thinc-8.0.15:\r\n",
      "      Successfully uninstalled thinc-8.0.15\r\n",
      "  Attempting uninstall: spacy\r\n",
      "    Found existing installation: spacy 3.2.4\r\n",
      "    Uninstalling spacy-3.2.4:\r\n",
      "      Successfully uninstalled spacy-3.2.4\r\n",
      "\u001b[31mERROR: pip's dependency resolver does not currently take into account all the packages that are installed. This behaviour is the source of the following dependency conflicts.\r\n",
      "beatrix-jupyterlab 3.1.7 requires google-cloud-bigquery-storage, which is not installed.\r\n",
      "en-core-web-sm 3.2.0 requires spacy<3.3.0,>=3.2.0, but you have spacy 2.1.4 which is incompatible.\r\n",
      "en-core-web-lg 3.2.0 requires spacy<3.3.0,>=3.2.0, but you have spacy 2.1.4 which is incompatible.\u001b[0m\u001b[31m\r\n",
      "\u001b[0mSuccessfully installed blis-0.2.4 jsonschema-3.0.2 plac-0.9.6 preshed-2.0.1 spacy-2.1.4 srsly-1.0.5 thinc-7.0.8\r\n",
      "\u001b[33mWARNING: Running pip as the 'root' user can result in broken permissions and conflicting behaviour with the system package manager. It is recommended to use a virtual environment instead: https://pip.pypa.io/warnings/venv\u001b[0m\u001b[33m\r\n",
      "\u001b[0mCollecting pyvi\r\n",
      "  Downloading pyvi-0.1.1-py2.py3-none-any.whl (8.5 MB)\r\n",
      "\u001b[2K     \u001b[90m━━━━━━━━━━━━━━━━━━━━━━━━━━━━━━━━━━━━━━━━\u001b[0m \u001b[32m8.5/8.5 MB\u001b[0m \u001b[31m12.3 MB/s\u001b[0m eta \u001b[36m0:00:00\u001b[0m\r\n",
      "\u001b[?25hRequirement already satisfied: scikit-learn in /opt/conda/lib/python3.7/site-packages (from pyvi) (1.0.2)\r\n",
      "Collecting sklearn-crfsuite\r\n",
      "  Downloading sklearn_crfsuite-0.3.6-py2.py3-none-any.whl (12 kB)\r\n",
      "Requirement already satisfied: scipy>=1.1.0 in /opt/conda/lib/python3.7/site-packages (from scikit-learn->pyvi) (1.7.3)\r\n",
      "Requirement already satisfied: threadpoolctl>=2.0.0 in /opt/conda/lib/python3.7/site-packages (from scikit-learn->pyvi) (3.1.0)\r\n",
      "Requirement already satisfied: joblib>=0.11 in /opt/conda/lib/python3.7/site-packages (from scikit-learn->pyvi) (1.0.1)\r\n",
      "Requirement already satisfied: numpy>=1.14.6 in /opt/conda/lib/python3.7/site-packages (from scikit-learn->pyvi) (1.21.6)\r\n",
      "Requirement already satisfied: six in /opt/conda/lib/python3.7/site-packages (from sklearn-crfsuite->pyvi) (1.16.0)\r\n",
      "Collecting python-crfsuite>=0.8.3\r\n",
      "  Downloading python_crfsuite-0.9.8-cp37-cp37m-manylinux_2_17_x86_64.manylinux2014_x86_64.whl (965 kB)\r\n",
      "\u001b[2K     \u001b[90m━━━━━━━━━━━━━━━━━━━━━━━━━━━━━━━━━━━━━━\u001b[0m \u001b[32m965.4/965.4 KB\u001b[0m \u001b[31m56.9 MB/s\u001b[0m eta \u001b[36m0:00:00\u001b[0m\r\n",
      "\u001b[?25hRequirement already satisfied: tqdm>=2.0 in /opt/conda/lib/python3.7/site-packages (from sklearn-crfsuite->pyvi) (4.63.0)\r\n",
      "Requirement already satisfied: tabulate in /opt/conda/lib/python3.7/site-packages (from sklearn-crfsuite->pyvi) (0.8.9)\r\n",
      "Installing collected packages: python-crfsuite, sklearn-crfsuite, pyvi\r\n",
      "Successfully installed python-crfsuite-0.9.8 pyvi-0.1.1 sklearn-crfsuite-0.3.6\r\n",
      "\u001b[33mWARNING: Running pip as the 'root' user can result in broken permissions and conflicting behaviour with the system package manager. It is recommended to use a virtual environment instead: https://pip.pypa.io/warnings/venv\u001b[0m\u001b[33m\r\n",
      "\u001b[0mCollecting https://github.com/trungtv/vi_spacy/raw/master/packages/vi_spacy_model-0.2.1/dist/vi_spacy_model-0.2.1.tar.gz\r\n",
      "  Downloading https://github.com/trungtv/vi_spacy/raw/master/packages/vi_spacy_model-0.2.1/dist/vi_spacy_model-0.2.1.tar.gz (42.3 MB)\r\n",
      "\u001b[2K     \u001b[90m━━━━━━━━━━━━━━━━━━━━━━━━━━━━━━━━━━━━━━━━\u001b[0m \u001b[32m42.3/42.3 MB\u001b[0m \u001b[31m23.2 MB/s\u001b[0m eta \u001b[36m0:00:00\u001b[0m\r\n",
      "\u001b[?25h  Preparing metadata (setup.py) ... \u001b[?25l-\b \bdone\r\n",
      "\u001b[?25hRequirement already satisfied: spacy>=2.1.4 in /opt/conda/lib/python3.7/site-packages (from vi-spacy-model==0.2.1) (2.1.4)\r\n",
      "Requirement already satisfied: preshed<2.1.0,>=2.0.1 in /opt/conda/lib/python3.7/site-packages (from spacy>=2.1.4->vi-spacy-model==0.2.1) (2.0.1)\r\n",
      "Requirement already satisfied: blis<0.3.0,>=0.2.2 in /opt/conda/lib/python3.7/site-packages (from spacy>=2.1.4->vi-spacy-model==0.2.1) (0.2.4)\r\n",
      "Requirement already satisfied: jsonschema<3.1.0,>=2.6.0 in /opt/conda/lib/python3.7/site-packages (from spacy>=2.1.4->vi-spacy-model==0.2.1) (3.0.2)\r\n",
      "Requirement already satisfied: requests<3.0.0,>=2.13.0 in /opt/conda/lib/python3.7/site-packages (from spacy>=2.1.4->vi-spacy-model==0.2.1) (2.27.1)\r\n",
      "Requirement already satisfied: thinc<7.1.0,>=7.0.2 in /opt/conda/lib/python3.7/site-packages (from spacy>=2.1.4->vi-spacy-model==0.2.1) (7.0.8)\r\n",
      "Requirement already satisfied: wasabi<1.1.0,>=0.2.0 in /opt/conda/lib/python3.7/site-packages (from spacy>=2.1.4->vi-spacy-model==0.2.1) (0.9.1)\r\n",
      "Requirement already satisfied: srsly<1.1.0,>=0.0.5 in /opt/conda/lib/python3.7/site-packages (from spacy>=2.1.4->vi-spacy-model==0.2.1) (1.0.5)\r\n",
      "Requirement already satisfied: numpy>=1.15.0 in /opt/conda/lib/python3.7/site-packages (from spacy>=2.1.4->vi-spacy-model==0.2.1) (1.21.6)\r\n",
      "Requirement already satisfied: murmurhash<1.1.0,>=0.28.0 in /opt/conda/lib/python3.7/site-packages (from spacy>=2.1.4->vi-spacy-model==0.2.1) (1.0.7)\r\n",
      "Requirement already satisfied: plac<1.0.0,>=0.9.6 in /opt/conda/lib/python3.7/site-packages (from spacy>=2.1.4->vi-spacy-model==0.2.1) (0.9.6)\r\n",
      "Requirement already satisfied: cymem<2.1.0,>=2.0.2 in /opt/conda/lib/python3.7/site-packages (from spacy>=2.1.4->vi-spacy-model==0.2.1) (2.0.6)\r\n",
      "Requirement already satisfied: pyrsistent>=0.14.0 in /opt/conda/lib/python3.7/site-packages (from jsonschema<3.1.0,>=2.6.0->spacy>=2.1.4->vi-spacy-model==0.2.1) (0.18.1)\r\n",
      "Requirement already satisfied: six>=1.11.0 in /opt/conda/lib/python3.7/site-packages (from jsonschema<3.1.0,>=2.6.0->spacy>=2.1.4->vi-spacy-model==0.2.1) (1.16.0)\r\n",
      "Requirement already satisfied: attrs>=17.4.0 in /opt/conda/lib/python3.7/site-packages (from jsonschema<3.1.0,>=2.6.0->spacy>=2.1.4->vi-spacy-model==0.2.1) (21.4.0)\r\n",
      "Requirement already satisfied: setuptools in /opt/conda/lib/python3.7/site-packages (from jsonschema<3.1.0,>=2.6.0->spacy>=2.1.4->vi-spacy-model==0.2.1) (59.8.0)\r\n",
      "Requirement already satisfied: idna<4,>=2.5 in /opt/conda/lib/python3.7/site-packages (from requests<3.0.0,>=2.13.0->spacy>=2.1.4->vi-spacy-model==0.2.1) (3.3)\r\n",
      "Requirement already satisfied: charset-normalizer~=2.0.0 in /opt/conda/lib/python3.7/site-packages (from requests<3.0.0,>=2.13.0->spacy>=2.1.4->vi-spacy-model==0.2.1) (2.0.12)\r\n",
      "Requirement already satisfied: certifi>=2017.4.17 in /opt/conda/lib/python3.7/site-packages (from requests<3.0.0,>=2.13.0->spacy>=2.1.4->vi-spacy-model==0.2.1) (2021.10.8)\r\n",
      "Requirement already satisfied: urllib3<1.27,>=1.21.1 in /opt/conda/lib/python3.7/site-packages (from requests<3.0.0,>=2.13.0->spacy>=2.1.4->vi-spacy-model==0.2.1) (1.26.8)\r\n",
      "Requirement already satisfied: tqdm<5.0.0,>=4.10.0 in /opt/conda/lib/python3.7/site-packages (from thinc<7.1.0,>=7.0.2->spacy>=2.1.4->vi-spacy-model==0.2.1) (4.63.0)\r\n",
      "Building wheels for collected packages: vi-spacy-model\r\n",
      "  Building wheel for vi-spacy-model (setup.py) ... \u001b[?25l-\b \b\\\b \b|\b \b/\b \b-\b \b\\\b \b|\b \b/\b \b-\b \bdone\r\n",
      "\u001b[?25h  Created wheel for vi-spacy-model: filename=vi_spacy_model-0.2.1-py3-none-any.whl size=42371395 sha256=370defecafb4368859f9672b648e95af1a5f5318215dc8600180485cc7256212\r\n",
      "  Stored in directory: /root/.cache/pip/wheels/41/09/3e/2ffc073d01adb657b9a04beb77af2660da581e814225055250\r\n",
      "Successfully built vi-spacy-model\r\n",
      "Installing collected packages: vi-spacy-model\r\n",
      "Successfully installed vi-spacy-model-0.2.1\r\n",
      "\u001b[33mWARNING: Running pip as the 'root' user can result in broken permissions and conflicting behaviour with the system package manager. It is recommended to use a virtual environment instead: https://pip.pypa.io/warnings/venv\u001b[0m\u001b[33m\r\n",
      "\u001b[0m\u001b[38;5;2m✔ Linking successful\u001b[0m\r\n",
      "/root/.local/lib/python3.7/site-packages/vi_spacy_model -->\r\n",
      "/opt/conda/lib/python3.7/site-packages/spacy/data/vi_spacy_model\r\n",
      "You can now load the model via spacy.load('vi_spacy_model')\r\n",
      "\u001b[1m\r\n",
      "============================== Info about spaCy ==============================\u001b[0m\r\n",
      "\r\n",
      "spaCy version    2.1.4                         \r\n",
      "Location         /opt/conda/lib/python3.7/site-packages/spacy\r\n",
      "Platform         Linux-5.10.107+-x86_64-with-debian-bullseye-sid\r\n",
      "Python version   3.7.12                        \r\n",
      "Models           vi_spacy_model                \r\n",
      "\r\n"
     ]
    }
   ],
   "source": [
    "!pip install spacy==2.1.4\n",
    "!pip install pyvi\n",
    "!pip3 install https://github.com/trungtv/vi_spacy/raw/master/packages/vi_spacy_model-0.2.1/dist/vi_spacy_model-0.2.1.tar.gz --user\n",
    "!python3 -m spacy link vi_spacy_model vi_spacy_model\n",
    "!python3 -m spacy info"
   ]
  },
  {
   "cell_type": "code",
   "execution_count": 4,
   "id": "ee199892",
   "metadata": {
    "execution": {
     "iopub.execute_input": "2022-05-16T17:49:09.706799Z",
     "iopub.status.busy": "2022-05-16T17:49:09.706563Z",
     "iopub.status.idle": "2022-05-16T17:49:24.652926Z",
     "shell.execute_reply": "2022-05-16T17:49:24.652179Z"
    },
    "papermill": {
     "duration": 15.016753,
     "end_time": "2022-05-16T17:49:24.655052",
     "exception": false,
     "start_time": "2022-05-16T17:49:09.638299",
     "status": "completed"
    },
    "tags": []
   },
   "outputs": [],
   "source": [
    "train = pd.read_csv('/kaggle/input/vietnew-csv/vietnew_dataset/train_tokenized')\n",
    "val = pd.read_csv('/kaggle/input/vietnew-csv/vietnew_dataset/val_tokenized')\n",
    "test = pd.read_csv('/kaggle/input/vietnew-csv/vietnew_dataset/test_tokenized')"
   ]
  },
  {
   "cell_type": "code",
   "execution_count": 5,
   "id": "2ffff6ac",
   "metadata": {
    "execution": {
     "iopub.execute_input": "2022-05-16T17:49:24.789065Z",
     "iopub.status.busy": "2022-05-16T17:49:24.788804Z",
     "iopub.status.idle": "2022-05-16T17:49:24.795632Z",
     "shell.execute_reply": "2022-05-16T17:49:24.794986Z"
    },
    "papermill": {
     "duration": 0.07598,
     "end_time": "2022-05-16T17:49:24.797375",
     "exception": false,
     "start_time": "2022-05-16T17:49:24.721395",
     "status": "completed"
    },
    "tags": []
   },
   "outputs": [],
   "source": [
    "def resize_df(data):\n",
    "    data['Number_of_words'] = data.source_text.apply(lambda x: len(x.split()))\n",
    "    data['Number_of_words_target'] = data.target_text.apply(lambda x: len(x.split()))\n",
    "    data = data.loc[(data['Number_of_words'] < 512) & \n",
    "                    (data['Number_of_words'] > 200) &\n",
    "                    (data['Number_of_words_target'] < 38) &\n",
    "                    (data['Number_of_words_target'] > 15)]\n",
    "    return data"
   ]
  },
  {
   "cell_type": "code",
   "execution_count": 6,
   "id": "3c9f7524",
   "metadata": {
    "execution": {
     "iopub.execute_input": "2022-05-16T17:49:24.932040Z",
     "iopub.status.busy": "2022-05-16T17:49:24.931798Z",
     "iopub.status.idle": "2022-05-16T17:49:30.798745Z",
     "shell.execute_reply": "2022-05-16T17:49:30.798015Z"
    },
    "papermill": {
     "duration": 5.936714,
     "end_time": "2022-05-16T17:49:30.801129",
     "exception": false,
     "start_time": "2022-05-16T17:49:24.864415",
     "status": "completed"
    },
    "tags": []
   },
   "outputs": [],
   "source": [
    "train_df = resize_df(train)\n",
    "test_df = resize_df(test)\n",
    "val_df = resize_df(val)"
   ]
  },
  {
   "cell_type": "code",
   "execution_count": 7,
   "id": "88ef8e6d",
   "metadata": {
    "execution": {
     "iopub.execute_input": "2022-05-16T17:49:30.935126Z",
     "iopub.status.busy": "2022-05-16T17:49:30.934854Z",
     "iopub.status.idle": "2022-05-16T17:49:30.972116Z",
     "shell.execute_reply": "2022-05-16T17:49:30.971293Z"
    },
    "papermill": {
     "duration": 0.106251,
     "end_time": "2022-05-16T17:49:30.974098",
     "exception": false,
     "start_time": "2022-05-16T17:49:30.867847",
     "status": "completed"
    },
    "tags": []
   },
   "outputs": [
    {
     "name": "stdout",
     "output_type": "stream",
     "text": [
      "<class 'pandas.core.frame.DataFrame'>\n",
      "Int64Index: 56460 entries, 0 to 105417\n",
      "Data columns (total 5 columns):\n",
      " #   Column                  Non-Null Count  Dtype \n",
      "---  ------                  --------------  ----- \n",
      " 0   Unnamed: 0              56460 non-null  int64 \n",
      " 1   source_text             56460 non-null  object\n",
      " 2   target_text             56460 non-null  object\n",
      " 3   Number_of_words         56460 non-null  int64 \n",
      " 4   Number_of_words_target  56460 non-null  int64 \n",
      "dtypes: int64(3), object(2)\n",
      "memory usage: 2.6+ MB\n"
     ]
    }
   ],
   "source": [
    "train_df.info()"
   ]
  },
  {
   "cell_type": "code",
   "execution_count": 8,
   "id": "e518a5ea",
   "metadata": {
    "execution": {
     "iopub.execute_input": "2022-05-16T17:49:31.108684Z",
     "iopub.status.busy": "2022-05-16T17:49:31.108480Z",
     "iopub.status.idle": "2022-05-16T17:49:31.119003Z",
     "shell.execute_reply": "2022-05-16T17:49:31.118317Z"
    },
    "papermill": {
     "duration": 0.080269,
     "end_time": "2022-05-16T17:49:31.120621",
     "exception": false,
     "start_time": "2022-05-16T17:49:31.040352",
     "status": "completed"
    },
    "tags": []
   },
   "outputs": [],
   "source": [
    "import re\n",
    "def text_strip(column):\n",
    "    for row in column:\n",
    "        #ORDER OF REGEX IS VERY VERY IMPORTANT!!!!!!\n",
    "        \n",
    "        row=re.sub(\"(\\\\t)\", ' ', str(row)).lower() #remove escape charecters\n",
    "        row=re.sub(\"(\\\\r)\", ' ', str(row)).lower() \n",
    "        row=re.sub(\"(\\\\n)\", ' ', str(row)).lower()\n",
    "        row=re.sub(\"(video)\", ' ', str(row)).lower() #remove video\n",
    "        row=re.sub(\"(__+)\", ' ', str(row)).lower()   #remove _ if it occors more than one time consecutively\n",
    "        row=re.sub(\"(--+)\", ' ', str(row)).lower()   #remove - if it occors more than one time consecutively\n",
    "        row=re.sub(\"(~~+)\", ' ', str(row)).lower()   #remove ~ if it occors more than one time consecutively\n",
    "        row=re.sub(\"(\\+\\++)\", ' ', str(row)).lower()   #remove + if it occors more than one time consecutively\n",
    "        row=re.sub(\"(\\.\\.+)\", ' ', str(row)).lower()   #remove . if it occors more than one time consecutively\n",
    "        row=re.sub(r\"[<>()|&©ø\\[\\]\\'\\\",;?~*!]\", ' ', str(row)).lower() #remove <>()|&©ø\"',;?~*!           \n",
    "        row=re.sub(\"(\\.\\s+)\", ' ', str(row)).lower() #remove full stop at end of words(not between)\n",
    "        row=re.sub(\"(\\-\\s+)\", ' ', str(row)).lower() #remove - at end of words(not between)\n",
    "        row=re.sub(\"(\\:\\s+)\", ' ', str(row)).lower() #remove : at end of words(not between)\n",
    "        row=re.sub(\"(\\s+.\\s+)\", ' ', str(row)).lower() #remove any single charecters hanging between 2 spaces\n",
    "        row = re.sub(\"(\\s+)\",' ',str(row)).lower() #remove multiple spaces\n",
    "        #Should always be last\n",
    "        row=re.sub(\"(\\s+.\\s+)\", ' ', str(row)).lower() #remove any single charecters hanging between 2 spaces\n",
    "        \n",
    "        yield row"
   ]
  },
  {
   "cell_type": "code",
   "execution_count": 9,
   "id": "04c5afb5",
   "metadata": {
    "execution": {
     "iopub.execute_input": "2022-05-16T17:49:31.253081Z",
     "iopub.status.busy": "2022-05-16T17:49:31.252496Z",
     "iopub.status.idle": "2022-05-16T17:49:31.256535Z",
     "shell.execute_reply": "2022-05-16T17:49:31.255872Z"
    },
    "papermill": {
     "duration": 0.072045,
     "end_time": "2022-05-16T17:49:31.258160",
     "exception": false,
     "start_time": "2022-05-16T17:49:31.186115",
     "status": "completed"
    },
    "tags": []
   },
   "outputs": [],
   "source": [
    "brief_cleaning1 = text_strip(train_df['source_text'])\n",
    "brief_cleaning2 = text_strip(train_df['target_text'])"
   ]
  },
  {
   "cell_type": "code",
   "execution_count": 10,
   "id": "060add74",
   "metadata": {
    "execution": {
     "iopub.execute_input": "2022-05-16T17:49:31.390877Z",
     "iopub.status.busy": "2022-05-16T17:49:31.390675Z",
     "iopub.status.idle": "2022-05-16T18:18:20.408706Z",
     "shell.execute_reply": "2022-05-16T18:18:20.408008Z"
    },
    "papermill": {
     "duration": 1729.188138,
     "end_time": "2022-05-16T18:18:20.512151",
     "exception": false,
     "start_time": "2022-05-16T17:49:31.324013",
     "status": "completed"
    },
    "tags": []
   },
   "outputs": [
    {
     "name": "stdout",
     "output_type": "stream",
     "text": [
      "Time to clean up everything: 28.78 mins\n"
     ]
    }
   ],
   "source": [
    "from time import time\n",
    "import spacy\n",
    "nlp = spacy.load('vi_spacy_model')\n",
    "t = time()\n",
    "\n",
    "#Batch the data points into 5000 and run on all cores for faster preprocessing\n",
    "text = [str(doc) for doc in nlp.pipe(brief_cleaning1, batch_size=5000, n_threads=-1)]\n",
    "\n",
    "#Takes 7-8 mins\n",
    "print('Time to clean up everything: {} mins'.format(round((time() - t) / 60, 2)))"
   ]
  },
  {
   "cell_type": "code",
   "execution_count": 11,
   "id": "8faec626",
   "metadata": {
    "execution": {
     "iopub.execute_input": "2022-05-16T18:18:20.718086Z",
     "iopub.status.busy": "2022-05-16T18:18:20.717829Z",
     "iopub.status.idle": "2022-05-16T18:20:56.355730Z",
     "shell.execute_reply": "2022-05-16T18:20:56.355025Z"
    },
    "papermill": {
     "duration": 155.803365,
     "end_time": "2022-05-16T18:20:56.425357",
     "exception": false,
     "start_time": "2022-05-16T18:18:20.621992",
     "status": "completed"
    },
    "tags": []
   },
   "outputs": [
    {
     "name": "stdout",
     "output_type": "stream",
     "text": [
      "Time to clean up everything: 2.59 mins\n"
     ]
    }
   ],
   "source": [
    "t = time()\n",
    "\n",
    "#Batch the data points into 5000 and run on all cores for faster preprocessing\n",
    "summary = ['_START_ '+ str(doc) + ' _END_' for doc in nlp.pipe(brief_cleaning2, batch_size=5000, n_threads=-1)]\n",
    "\n",
    "#Takes 7-8 mins\n",
    "print('Time to clean up everything: {} mins'.format(round((time() - t) / 60, 2)))"
   ]
  },
  {
   "cell_type": "code",
   "execution_count": 12,
   "id": "3829934f",
   "metadata": {
    "execution": {
     "iopub.execute_input": "2022-05-16T18:20:56.560874Z",
     "iopub.status.busy": "2022-05-16T18:20:56.560663Z",
     "iopub.status.idle": "2022-05-16T18:20:56.567380Z",
     "shell.execute_reply": "2022-05-16T18:20:56.566733Z"
    },
    "papermill": {
     "duration": 0.077039,
     "end_time": "2022-05-16T18:20:56.569655",
     "exception": false,
     "start_time": "2022-05-16T18:20:56.492616",
     "status": "completed"
    },
    "tags": []
   },
   "outputs": [
    {
     "data": {
      "text/plain": [
       "'dân_thường damascus syria chạy loạn bình_nhưỡng cho_rằng bản phúc_trình mới_đây của liên_hợp_quốc cáo_buộc triều_tiên hỗ_trợ syria sản_xuất vũ_khí_hoá_học là thêu_dệt nhằm gây sức_ép reuters dẫn lời hãng thông_tấn trung_ương triều_tiên kcna đưa tin như chúng_tôi đã nói rõ nhiều lần chúng_tôi không phát_triển sản_xuất hay lưu_trữ vũ_khí_hoá_học và chúng_tôi phản_đối vũ_khí_hoá_học người_phát_ngôn viện nghiên_cứu về mỹ trực_thuộc bộ ngoại_giao triều_tiên nhấn_mạnh theo liên_hợp_quốc triều_tiên đã vận_chuyển các vật_dụng như nhiệt_kế và van trong ít_nhất 40 chuyến hàng_không khai_báo từ triều_tiên đến syria trong khoảng thời_gian từ năm 2012 đến 2017 báo_cáo được tiết_lộ cho một_số hãng tin trong bối_cảnh mỹ và các nước khác cáo_buộc chính_phủ syria sử_dụng vũ_khí_hoá_học tấn_công thường_dân gần đây nhất_là tại ghouta khu ngoại_ô phía đông damascus báo_cáo do một nhóm chuyên_gia giám_sát thực_thi lệnh chế_tài của liên_hợp_quốc đối_với bình_nhưỡng thực_hiện nói rằng các chuyên_viên tên_lửa triều_tiên được nhìn thấy làm_việc tại những cơ_sở tên_lửa và vũ_khí_hoá_học của syria syria phủ_nhận nghi_vấn trên khẳng_định không có công_ty kỹ_thuật nào của triều_tiên tại syria mà chỉ có những người triều_tiên các cơ_sở thể_thao theo hợp_đồng huấn_luyện tư_nhân an_hồng dân_thường damascus syria chạy loạn '"
      ]
     },
     "execution_count": 12,
     "metadata": {},
     "output_type": "execute_result"
    }
   ],
   "source": [
    "text[0]"
   ]
  },
  {
   "cell_type": "code",
   "execution_count": 13,
   "id": "bed95860",
   "metadata": {
    "execution": {
     "iopub.execute_input": "2022-05-16T18:20:56.704989Z",
     "iopub.status.busy": "2022-05-16T18:20:56.704425Z",
     "iopub.status.idle": "2022-05-16T18:20:56.709171Z",
     "shell.execute_reply": "2022-05-16T18:20:56.708445Z"
    },
    "papermill": {
     "duration": 0.0746,
     "end_time": "2022-05-16T18:20:56.711053",
     "exception": false,
     "start_time": "2022-05-16T18:20:56.636453",
     "status": "completed"
    },
    "tags": []
   },
   "outputs": [
    {
     "data": {
      "text/plain": [
       "'_START_ triều_tiên bác_bỏ cáo_buộc nước này bán các loại chất_liệu cho chế_độ của tổng_thống syria_bashar_assad dùng để chế_tạo vũ_khí_hoá_học  _END_'"
      ]
     },
     "execution_count": 13,
     "metadata": {},
     "output_type": "execute_result"
    }
   ],
   "source": [
    "summary[0]"
   ]
  },
  {
   "cell_type": "code",
   "execution_count": 14,
   "id": "62d57741",
   "metadata": {
    "execution": {
     "iopub.execute_input": "2022-05-16T18:20:56.848519Z",
     "iopub.status.busy": "2022-05-16T18:20:56.847739Z",
     "iopub.status.idle": "2022-05-16T18:20:56.873568Z",
     "shell.execute_reply": "2022-05-16T18:20:56.872859Z"
    },
    "papermill": {
     "duration": 0.096446,
     "end_time": "2022-05-16T18:20:56.875292",
     "exception": false,
     "start_time": "2022-05-16T18:20:56.778846",
     "status": "completed"
    },
    "tags": []
   },
   "outputs": [
    {
     "name": "stderr",
     "output_type": "stream",
     "text": [
      "/opt/conda/lib/python3.7/site-packages/ipykernel_launcher.py:1: SettingWithCopyWarning: \n",
      "A value is trying to be set on a copy of a slice from a DataFrame.\n",
      "Try using .loc[row_indexer,col_indexer] = value instead\n",
      "\n",
      "See the caveats in the documentation: https://pandas.pydata.org/pandas-docs/stable/user_guide/indexing.html#returning-a-view-versus-a-copy\n",
      "  \"\"\"Entry point for launching an IPython kernel.\n",
      "/opt/conda/lib/python3.7/site-packages/ipykernel_launcher.py:2: SettingWithCopyWarning: \n",
      "A value is trying to be set on a copy of a slice from a DataFrame.\n",
      "Try using .loc[row_indexer,col_indexer] = value instead\n",
      "\n",
      "See the caveats in the documentation: https://pandas.pydata.org/pandas-docs/stable/user_guide/indexing.html#returning-a-view-versus-a-copy\n",
      "  \n"
     ]
    }
   ],
   "source": [
    "train_df['cleaned_text'] = pd.Series(text)\n",
    "train_df['cleaned_summary'] = pd.Series(summary)"
   ]
  },
  {
   "cell_type": "code",
   "execution_count": 15,
   "id": "878d409d",
   "metadata": {
    "execution": {
     "iopub.execute_input": "2022-05-16T18:20:57.021601Z",
     "iopub.status.busy": "2022-05-16T18:20:57.021362Z",
     "iopub.status.idle": "2022-05-16T18:20:59.132662Z",
     "shell.execute_reply": "2022-05-16T18:20:59.131880Z"
    },
    "papermill": {
     "duration": 2.185961,
     "end_time": "2022-05-16T18:20:59.134568",
     "exception": false,
     "start_time": "2022-05-16T18:20:56.948607",
     "status": "completed"
    },
    "tags": []
   },
   "outputs": [
    {
     "name": "stdout",
     "output_type": "stream",
     "text": [
      "Number of data nan: 52560\n",
      "Number of duplicate: 0\n",
      "Shape of data after drop nan: (30180, 7)\n"
     ]
    },
    {
     "data": {
      "text/html": [
       "<div>\n",
       "<style scoped>\n",
       "    .dataframe tbody tr th:only-of-type {\n",
       "        vertical-align: middle;\n",
       "    }\n",
       "\n",
       "    .dataframe tbody tr th {\n",
       "        vertical-align: top;\n",
       "    }\n",
       "\n",
       "    .dataframe thead th {\n",
       "        text-align: right;\n",
       "    }\n",
       "</style>\n",
       "<table border=\"1\" class=\"dataframe\">\n",
       "  <thead>\n",
       "    <tr style=\"text-align: right;\">\n",
       "      <th></th>\n",
       "      <th>Unnamed: 0</th>\n",
       "      <th>source_text</th>\n",
       "      <th>target_text</th>\n",
       "      <th>Number_of_words</th>\n",
       "      <th>Number_of_words_target</th>\n",
       "      <th>cleaned_text</th>\n",
       "      <th>cleaned_summary</th>\n",
       "    </tr>\n",
       "  </thead>\n",
       "  <tbody>\n",
       "    <tr>\n",
       "      <th>0</th>\n",
       "      <td>0</td>\n",
       "      <td>Dân_thường ở Damascus , Syria chạy loạn . Bình...</td>\n",
       "      <td>Triều_Tiên bác bỏ cáo_buộc nước này bán các lo...</td>\n",
       "      <td>213</td>\n",
       "      <td>20</td>\n",
       "      <td>dân_thường damascus syria chạy loạn bình_nhưỡn...</td>\n",
       "      <td>_START_ triều_tiên bác_bỏ cáo_buộc nước này bá...</td>\n",
       "    </tr>\n",
       "    <tr>\n",
       "      <th>1</th>\n",
       "      <td>1</td>\n",
       "      <td>Theo đó , khoảng 10h ngày 30/6 , ngọn lửa bắt_...</td>\n",
       "      <td>Đám cháy bùng_phát ở khu_vực rừng thông , do t...</td>\n",
       "      <td>256</td>\n",
       "      <td>27</td>\n",
       "      <td>theo đó khoảng 10h ngày 30/6 ngọn lửa bắt_đầu ...</td>\n",
       "      <td>_START_ đám cháy bùng_phát khu_vực rừng thông ...</td>\n",
       "    </tr>\n",
       "    <tr>\n",
       "      <th>3</th>\n",
       "      <td>3</td>\n",
       "      <td>Món đồ_chơi tình_dục bị nghi là bom . Chuyến b...</td>\n",
       "      <td>Chuyến bay của hãng AirAsia khởi_hành từ sân_b...</td>\n",
       "      <td>234</td>\n",
       "      <td>27</td>\n",
       "      <td>tổng_thống mỹ donald_trump và cựu_bộ_trưởng tư...</td>\n",
       "      <td>_START_ các nghị_sĩ đảng dân_chủ muốn quốc_hội...</td>\n",
       "    </tr>\n",
       "    <tr>\n",
       "      <th>5</th>\n",
       "      <td>5</td>\n",
       "      <td>Tổng_thống Mỹ Donald_Trump và cựu Bộ_trưởng Tư...</td>\n",
       "      <td>Các nghị_sĩ đảng Dân_chủ muốn Quốc_hội Mỹ thôn...</td>\n",
       "      <td>317</td>\n",
       "      <td>21</td>\n",
       "      <td>bức_ảnh trên truyền_hình đang gây xôn_xao tron...</td>\n",
       "      <td>_START_ truyền_hình triều_tiên dường_như chiếu...</td>\n",
       "    </tr>\n",
       "    <tr>\n",
       "      <th>6</th>\n",
       "      <td>6</td>\n",
       "      <td>Ngày 29-11 , TAND quận Ninh_Kiều đưa ra xét_xử...</td>\n",
       "      <td>Với cáo_buộc nhiều lần làm lộ thông_tin nội_bộ...</td>\n",
       "      <td>505</td>\n",
       "      <td>33</td>\n",
       "      <td>nsưt công_lý cho biết anh vừa cùng xuân_bắc vâ...</td>\n",
       "      <td>_START_ sáng 11/4 nsưt công_lý xuân_bắc và vân...</td>\n",
       "    </tr>\n",
       "  </tbody>\n",
       "</table>\n",
       "</div>"
      ],
      "text/plain": [
       "   Unnamed: 0                                        source_text  \\\n",
       "0           0  Dân_thường ở Damascus , Syria chạy loạn . Bình...   \n",
       "1           1  Theo đó , khoảng 10h ngày 30/6 , ngọn lửa bắt_...   \n",
       "3           3  Món đồ_chơi tình_dục bị nghi là bom . Chuyến b...   \n",
       "5           5  Tổng_thống Mỹ Donald_Trump và cựu Bộ_trưởng Tư...   \n",
       "6           6  Ngày 29-11 , TAND quận Ninh_Kiều đưa ra xét_xử...   \n",
       "\n",
       "                                         target_text  Number_of_words  \\\n",
       "0  Triều_Tiên bác bỏ cáo_buộc nước này bán các lo...              213   \n",
       "1  Đám cháy bùng_phát ở khu_vực rừng thông , do t...              256   \n",
       "3  Chuyến bay của hãng AirAsia khởi_hành từ sân_b...              234   \n",
       "5  Các nghị_sĩ đảng Dân_chủ muốn Quốc_hội Mỹ thôn...              317   \n",
       "6  Với cáo_buộc nhiều lần làm lộ thông_tin nội_bộ...              505   \n",
       "\n",
       "   Number_of_words_target                                       cleaned_text  \\\n",
       "0                      20  dân_thường damascus syria chạy loạn bình_nhưỡn...   \n",
       "1                      27  theo đó khoảng 10h ngày 30/6 ngọn lửa bắt_đầu ...   \n",
       "3                      27  tổng_thống mỹ donald_trump và cựu_bộ_trưởng tư...   \n",
       "5                      21  bức_ảnh trên truyền_hình đang gây xôn_xao tron...   \n",
       "6                      33  nsưt công_lý cho biết anh vừa cùng xuân_bắc vâ...   \n",
       "\n",
       "                                     cleaned_summary  \n",
       "0  _START_ triều_tiên bác_bỏ cáo_buộc nước này bá...  \n",
       "1  _START_ đám cháy bùng_phát khu_vực rừng thông ...  \n",
       "3  _START_ các nghị_sĩ đảng dân_chủ muốn quốc_hội...  \n",
       "5  _START_ truyền_hình triều_tiên dường_như chiếu...  \n",
       "6  _START_ sáng 11/4 nsưt công_lý xuân_bắc và vân...  "
      ]
     },
     "execution_count": 15,
     "metadata": {},
     "output_type": "execute_result"
    }
   ],
   "source": [
    "print(\"Number of data nan:\",sum(train_df.isnull().values.ravel()))\n",
    "print('Number of duplicate:',sum(train_df.duplicated()))\n",
    "train_df =train_df.dropna()\n",
    "print(\"Shape of data after drop nan:\",train_df.shape)\n",
    "train_df.head(5)"
   ]
  },
  {
   "cell_type": "code",
   "execution_count": 16,
   "id": "899a8850",
   "metadata": {
    "execution": {
     "iopub.execute_input": "2022-05-16T18:20:59.278316Z",
     "iopub.status.busy": "2022-05-16T18:20:59.277679Z",
     "iopub.status.idle": "2022-05-16T18:20:59.281552Z",
     "shell.execute_reply": "2022-05-16T18:20:59.280752Z"
    },
    "papermill": {
     "duration": 0.079079,
     "end_time": "2022-05-16T18:20:59.283644",
     "exception": false,
     "start_time": "2022-05-16T18:20:59.204565",
     "status": "completed"
    },
    "tags": []
   },
   "outputs": [],
   "source": [
    "max_text_len=512\n",
    "max_summary_len=38"
   ]
  },
  {
   "cell_type": "code",
   "execution_count": 17,
   "id": "3114ce90",
   "metadata": {
    "execution": {
     "iopub.execute_input": "2022-05-16T18:20:59.446878Z",
     "iopub.status.busy": "2022-05-16T18:20:59.446656Z",
     "iopub.status.idle": "2022-05-16T18:21:00.368876Z",
     "shell.execute_reply": "2022-05-16T18:21:00.368166Z"
    },
    "papermill": {
     "duration": 1.005774,
     "end_time": "2022-05-16T18:21:00.371016",
     "exception": false,
     "start_time": "2022-05-16T18:20:59.365242",
     "status": "completed"
    },
    "tags": []
   },
   "outputs": [],
   "source": [
    "short_text=[]\n",
    "short_summary=[]\n",
    "\n",
    "cleaned_text =np.array(train_df['cleaned_text'])\n",
    "cleaned_summary=np.array(train_df['cleaned_summary'])\n",
    "\n",
    "for i in range(len(cleaned_text)):\n",
    "    if(len(cleaned_summary[i].split())<=max_summary_len and len(cleaned_text[i].split())<=max_text_len):\n",
    "        short_text.append(cleaned_text[i])\n",
    "        short_summary.append(cleaned_summary[i])\n",
    "        \n",
    "post_pre=pd.DataFrame({'text':short_text,'summary':short_summary})"
   ]
  },
  {
   "cell_type": "code",
   "execution_count": 18,
   "id": "a5607f3c",
   "metadata": {
    "execution": {
     "iopub.execute_input": "2022-05-16T18:21:00.509442Z",
     "iopub.status.busy": "2022-05-16T18:21:00.509038Z",
     "iopub.status.idle": "2022-05-16T18:21:00.517136Z",
     "shell.execute_reply": "2022-05-16T18:21:00.516373Z"
    },
    "papermill": {
     "duration": 0.079941,
     "end_time": "2022-05-16T18:21:00.519786",
     "exception": false,
     "start_time": "2022-05-16T18:21:00.439845",
     "status": "completed"
    },
    "tags": []
   },
   "outputs": [
    {
     "data": {
      "text/html": [
       "<div>\n",
       "<style scoped>\n",
       "    .dataframe tbody tr th:only-of-type {\n",
       "        vertical-align: middle;\n",
       "    }\n",
       "\n",
       "    .dataframe tbody tr th {\n",
       "        vertical-align: top;\n",
       "    }\n",
       "\n",
       "    .dataframe thead th {\n",
       "        text-align: right;\n",
       "    }\n",
       "</style>\n",
       "<table border=\"1\" class=\"dataframe\">\n",
       "  <thead>\n",
       "    <tr style=\"text-align: right;\">\n",
       "      <th></th>\n",
       "      <th>text</th>\n",
       "      <th>summary</th>\n",
       "    </tr>\n",
       "  </thead>\n",
       "  <tbody>\n",
       "    <tr>\n",
       "      <th>0</th>\n",
       "      <td>dân_thường damascus syria chạy loạn bình_nhưỡn...</td>\n",
       "      <td>_START_ triều_tiên bác_bỏ cáo_buộc nước này bá...</td>\n",
       "    </tr>\n",
       "    <tr>\n",
       "      <th>1</th>\n",
       "      <td>theo đó khoảng 10h ngày 30/6 ngọn lửa bắt_đầu ...</td>\n",
       "      <td>_START_ đám cháy bùng_phát khu_vực rừng thông ...</td>\n",
       "    </tr>\n",
       "  </tbody>\n",
       "</table>\n",
       "</div>"
      ],
      "text/plain": [
       "                                                text  \\\n",
       "0  dân_thường damascus syria chạy loạn bình_nhưỡn...   \n",
       "1  theo đó khoảng 10h ngày 30/6 ngọn lửa bắt_đầu ...   \n",
       "\n",
       "                                             summary  \n",
       "0  _START_ triều_tiên bác_bỏ cáo_buộc nước này bá...  \n",
       "1  _START_ đám cháy bùng_phát khu_vực rừng thông ...  "
      ]
     },
     "execution_count": 18,
     "metadata": {},
     "output_type": "execute_result"
    }
   ],
   "source": [
    "post_pre.head(2)"
   ]
  },
  {
   "cell_type": "code",
   "execution_count": 19,
   "id": "18d6377b",
   "metadata": {
    "execution": {
     "iopub.execute_input": "2022-05-16T18:21:00.659371Z",
     "iopub.status.busy": "2022-05-16T18:21:00.659179Z",
     "iopub.status.idle": "2022-05-16T18:21:00.683354Z",
     "shell.execute_reply": "2022-05-16T18:21:00.682748Z"
    },
    "papermill": {
     "duration": 0.09558,
     "end_time": "2022-05-16T18:21:00.684960",
     "exception": false,
     "start_time": "2022-05-16T18:21:00.589380",
     "status": "completed"
    },
    "tags": []
   },
   "outputs": [],
   "source": [
    "post_pre['summary'] = post_pre['summary'].apply(lambda x : 'sostok '+ x + ' eostok')"
   ]
  },
  {
   "cell_type": "code",
   "execution_count": 20,
   "id": "6e5b0b8b",
   "metadata": {
    "execution": {
     "iopub.execute_input": "2022-05-16T18:21:00.825031Z",
     "iopub.status.busy": "2022-05-16T18:21:00.824742Z",
     "iopub.status.idle": "2022-05-16T18:21:00.834337Z",
     "shell.execute_reply": "2022-05-16T18:21:00.833720Z"
    },
    "papermill": {
     "duration": 0.082353,
     "end_time": "2022-05-16T18:21:00.835988",
     "exception": false,
     "start_time": "2022-05-16T18:21:00.753635",
     "status": "completed"
    },
    "tags": []
   },
   "outputs": [],
   "source": [
    "from sklearn.model_selection import train_test_split\n",
    "x_tr,x_val,y_tr,y_val=train_test_split(np.array(post_pre['text']),np.array(post_pre['summary']),test_size=0.1,random_state=0,shuffle=True)"
   ]
  },
  {
   "cell_type": "code",
   "execution_count": 21,
   "id": "6e57bde6",
   "metadata": {
    "execution": {
     "iopub.execute_input": "2022-05-16T18:21:00.975535Z",
     "iopub.status.busy": "2022-05-16T18:21:00.975344Z",
     "iopub.status.idle": "2022-05-16T18:21:16.039647Z",
     "shell.execute_reply": "2022-05-16T18:21:16.038891Z"
    },
    "papermill": {
     "duration": 15.136059,
     "end_time": "2022-05-16T18:21:16.041776",
     "exception": false,
     "start_time": "2022-05-16T18:21:00.905717",
     "status": "completed"
    },
    "tags": []
   },
   "outputs": [],
   "source": [
    "from keras.preprocessing.text import Tokenizer \n",
    "from keras.preprocessing.sequence import pad_sequences\n",
    "\n",
    "#prepare a tokenizer for reviews on training data\n",
    "x_tokenizer = Tokenizer() \n",
    "x_tokenizer.fit_on_texts(list(x_tr))"
   ]
  },
  {
   "cell_type": "code",
   "execution_count": 22,
   "id": "857a32a3",
   "metadata": {
    "execution": {
     "iopub.execute_input": "2022-05-16T18:21:16.297238Z",
     "iopub.status.busy": "2022-05-16T18:21:16.296884Z",
     "iopub.status.idle": "2022-05-16T18:21:16.407711Z",
     "shell.execute_reply": "2022-05-16T18:21:16.407026Z"
    },
    "papermill": {
     "duration": 0.248359,
     "end_time": "2022-05-16T18:21:16.410028",
     "exception": false,
     "start_time": "2022-05-16T18:21:16.161669",
     "status": "completed"
    },
    "tags": []
   },
   "outputs": [
    {
     "name": "stdout",
     "output_type": "stream",
     "text": [
      "% of rare words in vocabulary: 80.5434312878133\n",
      "Total Coverage of rare words: 0.8844746836493173\n"
     ]
    }
   ],
   "source": [
    "thresh=4\n",
    "\n",
    "cnt=0\n",
    "tot_cnt=0\n",
    "freq=0\n",
    "tot_freq=0\n",
    "\n",
    "for key,value in x_tokenizer.word_counts.items():\n",
    "    tot_cnt=tot_cnt+1\n",
    "    tot_freq=tot_freq+value\n",
    "    if(value<thresh):\n",
    "        cnt=cnt+1\n",
    "        freq=freq+value\n",
    "    \n",
    "print(\"% of rare words in vocabulary:\",(cnt/tot_cnt)*100)\n",
    "print(\"Total Coverage of rare words:\",(freq/tot_freq)*100)"
   ]
  },
  {
   "cell_type": "code",
   "execution_count": 23,
   "id": "550f1eaf",
   "metadata": {
    "execution": {
     "iopub.execute_input": "2022-05-16T18:21:16.637107Z",
     "iopub.status.busy": "2022-05-16T18:21:16.636876Z",
     "iopub.status.idle": "2022-05-16T18:21:39.221754Z",
     "shell.execute_reply": "2022-05-16T18:21:39.220103Z"
    },
    "papermill": {
     "duration": 22.698655,
     "end_time": "2022-05-16T18:21:39.223754",
     "exception": false,
     "start_time": "2022-05-16T18:21:16.525099",
     "status": "completed"
    },
    "tags": []
   },
   "outputs": [
    {
     "name": "stdout",
     "output_type": "stream",
     "text": [
      "Size of vocabulary in X = 18010\n"
     ]
    }
   ],
   "source": [
    "#prepare a tokenizer for reviews on training data\n",
    "x_tokenizer = Tokenizer(num_words=tot_cnt-cnt) \n",
    "x_tokenizer.fit_on_texts(list(x_tr))\n",
    "\n",
    "#convert text sequences into integer sequences (i.e one-hot encodeing all the words)\n",
    "x_tr_seq    =   x_tokenizer.texts_to_sequences(x_tr) \n",
    "x_val_seq   =   x_tokenizer.texts_to_sequences(x_val)\n",
    "\n",
    "#padding zero upto maximum length\n",
    "x_tr    =   pad_sequences(x_tr_seq,  maxlen=max_text_len, padding='post')\n",
    "x_val   =   pad_sequences(x_val_seq, maxlen=max_text_len, padding='post')\n",
    "\n",
    "#size of vocabulary ( +1 for padding token)\n",
    "x_voc   =  x_tokenizer.num_words + 1\n",
    "\n",
    "print(\"Size of vocabulary in X = {}\".format(x_voc))"
   ]
  },
  {
   "cell_type": "code",
   "execution_count": 24,
   "id": "6a745836",
   "metadata": {
    "execution": {
     "iopub.execute_input": "2022-05-16T18:21:39.367265Z",
     "iopub.status.busy": "2022-05-16T18:21:39.366790Z",
     "iopub.status.idle": "2022-05-16T18:21:40.604860Z",
     "shell.execute_reply": "2022-05-16T18:21:40.604136Z"
    },
    "papermill": {
     "duration": 1.311536,
     "end_time": "2022-05-16T18:21:40.606867",
     "exception": false,
     "start_time": "2022-05-16T18:21:39.295331",
     "status": "completed"
    },
    "tags": []
   },
   "outputs": [],
   "source": [
    "y_tokenizer = Tokenizer()   \n",
    "y_tokenizer.fit_on_texts(list(y_tr))"
   ]
  },
  {
   "cell_type": "code",
   "execution_count": 25,
   "id": "356e8009",
   "metadata": {
    "execution": {
     "iopub.execute_input": "2022-05-16T18:21:40.747111Z",
     "iopub.status.busy": "2022-05-16T18:21:40.746850Z",
     "iopub.status.idle": "2022-05-16T18:21:40.759809Z",
     "shell.execute_reply": "2022-05-16T18:21:40.759117Z"
    },
    "papermill": {
     "duration": 0.084971,
     "end_time": "2022-05-16T18:21:40.761549",
     "exception": false,
     "start_time": "2022-05-16T18:21:40.676578",
     "status": "completed"
    },
    "tags": []
   },
   "outputs": [
    {
     "name": "stdout",
     "output_type": "stream",
     "text": [
      "% of rare words in vocabulary: 70.81106204973274\n",
      "Total Coverage of rare words: 1.5101321494834439\n"
     ]
    }
   ],
   "source": [
    "thresh=6\n",
    "\n",
    "cnt=0\n",
    "tot_cnt=0\n",
    "freq=0\n",
    "tot_freq=0\n",
    "\n",
    "for key,value in y_tokenizer.word_counts.items():\n",
    "    tot_cnt=tot_cnt+1\n",
    "    tot_freq=tot_freq+value\n",
    "    if(value<thresh):\n",
    "        cnt=cnt+1\n",
    "        freq=freq+value\n",
    "    \n",
    "print(\"% of rare words in vocabulary:\",(cnt/tot_cnt)*100)\n",
    "print(\"Total Coverage of rare words:\",(freq/tot_freq)*100)"
   ]
  },
  {
   "cell_type": "code",
   "execution_count": 26,
   "id": "fd53fe5c",
   "metadata": {
    "execution": {
     "iopub.execute_input": "2022-05-16T18:21:40.903759Z",
     "iopub.status.busy": "2022-05-16T18:21:40.903564Z",
     "iopub.status.idle": "2022-05-16T18:21:43.425523Z",
     "shell.execute_reply": "2022-05-16T18:21:43.424791Z"
    },
    "papermill": {
     "duration": 2.595336,
     "end_time": "2022-05-16T18:21:43.427296",
     "exception": false,
     "start_time": "2022-05-16T18:21:40.831960",
     "status": "completed"
    },
    "tags": []
   },
   "outputs": [
    {
     "name": "stdout",
     "output_type": "stream",
     "text": [
      "Size of vocabulary in Y = 3769\n"
     ]
    }
   ],
   "source": [
    "y_tokenizer = Tokenizer(num_words=tot_cnt-cnt) \n",
    "y_tokenizer.fit_on_texts(list(y_tr))\n",
    "\n",
    "#convert text sequences into integer sequences (i.e one hot encode the text in Y)\n",
    "y_tr_seq    =   y_tokenizer.texts_to_sequences(y_tr) \n",
    "y_val_seq   =   y_tokenizer.texts_to_sequences(y_val) \n",
    "\n",
    "#padding zero upto maximum length\n",
    "y_tr    =   pad_sequences(y_tr_seq, maxlen=max_summary_len, padding='post')\n",
    "y_val   =   pad_sequences(y_val_seq, maxlen=max_summary_len, padding='post')\n",
    "\n",
    "#size of vocabulary\n",
    "y_voc  =   y_tokenizer.num_words +1\n",
    "print(\"Size of vocabulary in Y = {}\".format(y_voc))"
   ]
  },
  {
   "cell_type": "code",
   "execution_count": 27,
   "id": "8398cc74",
   "metadata": {
    "execution": {
     "iopub.execute_input": "2022-05-16T18:21:43.569775Z",
     "iopub.status.busy": "2022-05-16T18:21:43.569516Z",
     "iopub.status.idle": "2022-05-16T18:21:46.231655Z",
     "shell.execute_reply": "2022-05-16T18:21:46.230933Z"
    },
    "papermill": {
     "duration": 2.736193,
     "end_time": "2022-05-16T18:21:46.234076",
     "exception": false,
     "start_time": "2022-05-16T18:21:43.497883",
     "status": "completed"
    },
    "tags": []
   },
   "outputs": [],
   "source": [
    "ind=[]\n",
    "for i in range(len(y_tr)):\n",
    "    cnt=0\n",
    "    for j in y_tr[i]:\n",
    "        if j!=0:\n",
    "            cnt=cnt+1\n",
    "    if(cnt==2):\n",
    "        ind.append(i)\n",
    "\n",
    "y_tr=np.delete(y_tr,ind, axis=0)\n",
    "x_tr=np.delete(x_tr,ind, axis=0)"
   ]
  },
  {
   "cell_type": "code",
   "execution_count": 28,
   "id": "f7bbde2f",
   "metadata": {
    "execution": {
     "iopub.execute_input": "2022-05-16T18:21:46.377999Z",
     "iopub.status.busy": "2022-05-16T18:21:46.377329Z",
     "iopub.status.idle": "2022-05-16T18:21:46.673699Z",
     "shell.execute_reply": "2022-05-16T18:21:46.673024Z"
    },
    "papermill": {
     "duration": 0.369391,
     "end_time": "2022-05-16T18:21:46.675537",
     "exception": false,
     "start_time": "2022-05-16T18:21:46.306146",
     "status": "completed"
    },
    "tags": []
   },
   "outputs": [],
   "source": [
    "ind=[]\n",
    "for i in range(len(y_val)):\n",
    "    cnt=0\n",
    "    for j in y_val[i]:\n",
    "        if j!=0:\n",
    "            cnt=cnt+1\n",
    "    if(cnt==2):\n",
    "        ind.append(i)\n",
    "\n",
    "y_val=np.delete(y_val,ind, axis=0)\n",
    "x_val=np.delete(x_val,ind, axis=0)"
   ]
  },
  {
   "cell_type": "code",
   "execution_count": 29,
   "id": "b79c3220",
   "metadata": {
    "execution": {
     "iopub.execute_input": "2022-05-16T18:21:46.818397Z",
     "iopub.status.busy": "2022-05-16T18:21:46.818159Z",
     "iopub.status.idle": "2022-05-16T18:21:52.976751Z",
     "shell.execute_reply": "2022-05-16T18:21:52.976030Z"
    },
    "papermill": {
     "duration": 6.232325,
     "end_time": "2022-05-16T18:21:52.978638",
     "exception": false,
     "start_time": "2022-05-16T18:21:46.746313",
     "status": "completed"
    },
    "tags": []
   },
   "outputs": [
    {
     "name": "stdout",
     "output_type": "stream",
     "text": [
      "Size of vocabulary from the w2v model = 18010\n"
     ]
    },
    {
     "name": "stderr",
     "output_type": "stream",
     "text": [
      "2022-05-16 18:21:47.828343: I tensorflow/stream_executor/cuda/cuda_gpu_executor.cc:937] successful NUMA node read from SysFS had negative value (-1), but there must be at least one NUMA node, so returning NUMA node zero\n",
      "2022-05-16 18:21:47.829727: I tensorflow/stream_executor/cuda/cuda_gpu_executor.cc:937] successful NUMA node read from SysFS had negative value (-1), but there must be at least one NUMA node, so returning NUMA node zero\n",
      "2022-05-16 18:21:47.830429: I tensorflow/stream_executor/cuda/cuda_gpu_executor.cc:937] successful NUMA node read from SysFS had negative value (-1), but there must be at least one NUMA node, so returning NUMA node zero\n",
      "2022-05-16 18:21:47.831551: I tensorflow/core/platform/cpu_feature_guard.cc:142] This TensorFlow binary is optimized with oneAPI Deep Neural Network Library (oneDNN) to use the following CPU instructions in performance-critical operations:  AVX2 AVX512F FMA\n",
      "To enable them in other operations, rebuild TensorFlow with the appropriate compiler flags.\n",
      "2022-05-16 18:21:47.831889: I tensorflow/stream_executor/cuda/cuda_gpu_executor.cc:937] successful NUMA node read from SysFS had negative value (-1), but there must be at least one NUMA node, so returning NUMA node zero\n",
      "2022-05-16 18:21:47.832594: I tensorflow/stream_executor/cuda/cuda_gpu_executor.cc:937] successful NUMA node read from SysFS had negative value (-1), but there must be at least one NUMA node, so returning NUMA node zero\n",
      "2022-05-16 18:21:47.833254: I tensorflow/stream_executor/cuda/cuda_gpu_executor.cc:937] successful NUMA node read from SysFS had negative value (-1), but there must be at least one NUMA node, so returning NUMA node zero\n",
      "2022-05-16 18:21:52.079815: I tensorflow/stream_executor/cuda/cuda_gpu_executor.cc:937] successful NUMA node read from SysFS had negative value (-1), but there must be at least one NUMA node, so returning NUMA node zero\n",
      "2022-05-16 18:21:52.080671: I tensorflow/stream_executor/cuda/cuda_gpu_executor.cc:937] successful NUMA node read from SysFS had negative value (-1), but there must be at least one NUMA node, so returning NUMA node zero\n",
      "2022-05-16 18:21:52.081350: I tensorflow/stream_executor/cuda/cuda_gpu_executor.cc:937] successful NUMA node read from SysFS had negative value (-1), but there must be at least one NUMA node, so returning NUMA node zero\n",
      "2022-05-16 18:21:52.082699: I tensorflow/core/common_runtime/gpu/gpu_device.cc:1510] Created device /job:localhost/replica:0/task:0/device:GPU:0 with 15059 MB memory:  -> device: 0, name: Tesla P100-PCIE-16GB, pci bus id: 0000:00:04.0, compute capability: 6.0\n"
     ]
    },
    {
     "name": "stdout",
     "output_type": "stream",
     "text": [
      "Model: \"model\"\n",
      "__________________________________________________________________________________________________\n",
      "Layer (type)                    Output Shape         Param #     Connected to                     \n",
      "==================================================================================================\n",
      "input_1 (InputLayer)            [(None, 512)]        0                                            \n",
      "__________________________________________________________________________________________________\n",
      "embedding (Embedding)           (None, 512, 200)     3602000     input_1[0][0]                    \n",
      "__________________________________________________________________________________________________\n",
      "lstm (LSTM)                     [(None, 512, 300), ( 601200      embedding[0][0]                  \n",
      "__________________________________________________________________________________________________\n",
      "input_2 (InputLayer)            [(None, None)]       0                                            \n",
      "__________________________________________________________________________________________________\n",
      "lstm_1 (LSTM)                   [(None, 512, 300), ( 721200      lstm[0][0]                       \n",
      "__________________________________________________________________________________________________\n",
      "embedding_1 (Embedding)         (None, None, 200)    753800      input_2[0][0]                    \n",
      "__________________________________________________________________________________________________\n",
      "lstm_2 (LSTM)                   [(None, 512, 300), ( 721200      lstm_1[0][0]                     \n",
      "__________________________________________________________________________________________________\n",
      "lstm_3 (LSTM)                   [(None, None, 300),  601200      embedding_1[0][0]                \n",
      "                                                                 lstm_2[0][1]                     \n",
      "                                                                 lstm_2[0][2]                     \n",
      "__________________________________________________________________________________________________\n",
      "time_distributed (TimeDistribut (None, None, 3769)   1134469     lstm_3[0][0]                     \n",
      "==================================================================================================\n",
      "Total params: 8,135,069\n",
      "Trainable params: 8,135,069\n",
      "Non-trainable params: 0\n",
      "__________________________________________________________________________________________________\n"
     ]
    }
   ],
   "source": [
    "from keras import backend as K \n",
    "import gensim\n",
    "from numpy import *\n",
    "import numpy as np\n",
    "import pandas as pd \n",
    "import re\n",
    "from bs4 import BeautifulSoup\n",
    "from keras.preprocessing.text import Tokenizer \n",
    "from keras.preprocessing.sequence import pad_sequences\n",
    "from nltk.corpus import stopwords\n",
    "from tensorflow.keras.layers import Input, LSTM, Embedding, Dense, Concatenate, TimeDistributed\n",
    "from tensorflow.keras.models import Model\n",
    "from tensorflow.keras.callbacks import EarlyStopping\n",
    "import warnings\n",
    "pd.set_option(\"display.max_colwidth\", 200)\n",
    "warnings.filterwarnings(\"ignore\")\n",
    "\n",
    "print(\"Size of vocabulary from the w2v model = {}\".format(x_voc))\n",
    "\n",
    "K.clear_session()\n",
    "\n",
    "latent_dim = 300\n",
    "embedding_dim=200\n",
    "\n",
    "# Encoder\n",
    "encoder_inputs = Input(shape=(max_text_len,))\n",
    "\n",
    "#embedding layer\n",
    "enc_emb =  Embedding(x_voc, embedding_dim,trainable=True)(encoder_inputs)\n",
    "\n",
    "#encoder lstm 1\n",
    "encoder_lstm1 = LSTM(latent_dim,return_sequences=True,return_state=True,dropout=0.4,recurrent_dropout=0.4)\n",
    "encoder_output1, state_h1, state_c1 = encoder_lstm1(enc_emb)\n",
    "\n",
    "#encoder lstm 2\n",
    "encoder_lstm2 = LSTM(latent_dim,return_sequences=True,return_state=True,dropout=0.4,recurrent_dropout=0.4)\n",
    "encoder_output2, state_h2, state_c2 = encoder_lstm2(encoder_output1)\n",
    "\n",
    "#encoder lstm 3\n",
    "encoder_lstm3=LSTM(latent_dim, return_state=True, return_sequences=True,dropout=0.4,recurrent_dropout=0.4)\n",
    "encoder_outputs, state_h, state_c= encoder_lstm3(encoder_output2)\n",
    "\n",
    "# Set up the decoder, using `encoder_states` as initial state.\n",
    "decoder_inputs = Input(shape=(None,))\n",
    "\n",
    "#embedding layer\n",
    "dec_emb_layer = Embedding(y_voc, embedding_dim,trainable=True)\n",
    "dec_emb = dec_emb_layer(decoder_inputs)\n",
    "\n",
    "decoder_lstm = LSTM(latent_dim, return_sequences=True, return_state=True,dropout=0.4,recurrent_dropout=0.2)\n",
    "decoder_outputs,decoder_fwd_state, decoder_back_state = decoder_lstm(dec_emb,initial_state=[state_h, state_c])\n",
    "\n",
    "#dense layer\n",
    "decoder_dense =  TimeDistributed(Dense(y_voc, activation='softmax'))\n",
    "decoder_outputs = decoder_dense(decoder_outputs)\n",
    "\n",
    "# Define the model \n",
    "model = Model([encoder_inputs, decoder_inputs], decoder_outputs)\n",
    "\n",
    "model.summary()"
   ]
  },
  {
   "cell_type": "code",
   "execution_count": 30,
   "id": "e7b41af1",
   "metadata": {
    "execution": {
     "iopub.execute_input": "2022-05-16T18:21:53.124383Z",
     "iopub.status.busy": "2022-05-16T18:21:53.124164Z",
     "iopub.status.idle": "2022-05-16T18:21:53.137307Z",
     "shell.execute_reply": "2022-05-16T18:21:53.136609Z"
    },
    "papermill": {
     "duration": 0.086664,
     "end_time": "2022-05-16T18:21:53.139133",
     "exception": false,
     "start_time": "2022-05-16T18:21:53.052469",
     "status": "completed"
    },
    "tags": []
   },
   "outputs": [],
   "source": [
    "model.compile(optimizer='rmsprop', loss='sparse_categorical_crossentropy')"
   ]
  },
  {
   "cell_type": "code",
   "execution_count": 31,
   "id": "df14a249",
   "metadata": {
    "execution": {
     "iopub.execute_input": "2022-05-16T18:21:53.286032Z",
     "iopub.status.busy": "2022-05-16T18:21:53.285768Z",
     "iopub.status.idle": "2022-05-16T18:21:53.289705Z",
     "shell.execute_reply": "2022-05-16T18:21:53.289049Z"
    },
    "papermill": {
     "duration": 0.078821,
     "end_time": "2022-05-16T18:21:53.291384",
     "exception": false,
     "start_time": "2022-05-16T18:21:53.212563",
     "status": "completed"
    },
    "tags": []
   },
   "outputs": [],
   "source": [
    "es = EarlyStopping(monitor='val_loss', mode='min', verbose=1,patience=2)"
   ]
  },
  {
   "cell_type": "code",
   "execution_count": 32,
   "id": "493a5872",
   "metadata": {
    "execution": {
     "iopub.execute_input": "2022-05-16T18:21:53.435931Z",
     "iopub.status.busy": "2022-05-16T18:21:53.435370Z",
     "iopub.status.idle": "2022-05-17T02:30:24.279301Z",
     "shell.execute_reply": "2022-05-17T02:30:24.278373Z"
    },
    "papermill": {
     "duration": 29310.919308,
     "end_time": "2022-05-17T02:30:24.282077",
     "exception": false,
     "start_time": "2022-05-16T18:21:53.362769",
     "status": "completed"
    },
    "tags": []
   },
   "outputs": [
    {
     "name": "stderr",
     "output_type": "stream",
     "text": [
      "2022-05-16 18:21:53.533277: I tensorflow/compiler/mlir/mlir_graph_optimization_pass.cc:185] None of the MLIR Optimization Passes are enabled (registered 2)\n"
     ]
    },
    {
     "name": "stdout",
     "output_type": "stream",
     "text": [
      "Epoch 1/20\n",
      "213/213 [==============================] - 1419s 7s/step - loss: 5.6870 - val_loss: 5.3338\n",
      "Epoch 2/20\n",
      "213/213 [==============================] - 1414s 7s/step - loss: 5.1197 - val_loss: 4.7933\n",
      "Epoch 3/20\n",
      "213/213 [==============================] - 1415s 7s/step - loss: 4.6259 - val_loss: 4.4162\n",
      "Epoch 4/20\n",
      "213/213 [==============================] - 1426s 7s/step - loss: 4.3139 - val_loss: 4.1782\n",
      "Epoch 5/20\n",
      "213/213 [==============================] - 1431s 7s/step - loss: 4.1098 - val_loss: 4.0053\n",
      "Epoch 6/20\n",
      "213/213 [==============================] - 1443s 7s/step - loss: 3.9539 - val_loss: 3.8874\n",
      "Epoch 7/20\n",
      "213/213 [==============================] - 1449s 7s/step - loss: 3.8311 - val_loss: 3.7906\n",
      "Epoch 8/20\n",
      "213/213 [==============================] - 1434s 7s/step - loss: 3.7365 - val_loss: 3.7316\n",
      "Epoch 9/20\n",
      "213/213 [==============================] - 1448s 7s/step - loss: 3.6591 - val_loss: 3.6697\n",
      "Epoch 10/20\n",
      "213/213 [==============================] - 1455s 7s/step - loss: 3.5939 - val_loss: 3.6270\n",
      "Epoch 11/20\n",
      "213/213 [==============================] - 1464s 7s/step - loss: 3.5366 - val_loss: 3.5823\n",
      "Epoch 12/20\n",
      "213/213 [==============================] - 1466s 7s/step - loss: 3.4853 - val_loss: 3.5410\n",
      "Epoch 13/20\n",
      "213/213 [==============================] - 1478s 7s/step - loss: 3.4392 - val_loss: 3.5104\n",
      "Epoch 14/20\n",
      "213/213 [==============================] - 1488s 7s/step - loss: 3.3972 - val_loss: 3.4877\n",
      "Epoch 15/20\n",
      "213/213 [==============================] - 1500s 7s/step - loss: 3.3610 - val_loss: 3.4696\n",
      "Epoch 16/20\n",
      "213/213 [==============================] - 1499s 7s/step - loss: 3.3271 - val_loss: 3.4438\n",
      "Epoch 17/20\n",
      "213/213 [==============================] - 1510s 7s/step - loss: 3.2963 - val_loss: 3.4436\n",
      "Epoch 18/20\n",
      "213/213 [==============================] - 1505s 7s/step - loss: 3.2674 - val_loss: 3.4053\n",
      "Epoch 19/20\n",
      "213/213 [==============================] - 1516s 7s/step - loss: 3.2417 - val_loss: 3.3921\n",
      "Epoch 20/20\n",
      "213/213 [==============================] - 1516s 7s/step - loss: 3.2164 - val_loss: 3.3783\n"
     ]
    }
   ],
   "source": [
    "history=model.fit([x_tr,y_tr[:,:-1]], y_tr.reshape(y_tr.shape[0],y_tr.shape[1], 1)[:,1:] ,epochs=20,callbacks=[es],batch_size=128, validation_data=([x_val,y_val[:,:-1]], y_val.reshape(y_val.shape[0],y_val.shape[1], 1)[:,1:]))"
   ]
  },
  {
   "cell_type": "code",
   "execution_count": 33,
   "id": "9b6b382a",
   "metadata": {
    "execution": {
     "iopub.execute_input": "2022-05-17T02:30:27.186174Z",
     "iopub.status.busy": "2022-05-17T02:30:27.185901Z",
     "iopub.status.idle": "2022-05-17T02:30:27.405830Z",
     "shell.execute_reply": "2022-05-17T02:30:27.405143Z"
    },
    "papermill": {
     "duration": 1.598418,
     "end_time": "2022-05-17T02:30:27.407735",
     "exception": false,
     "start_time": "2022-05-17T02:30:25.809317",
     "status": "completed"
    },
    "tags": []
   },
   "outputs": [
    {
     "data": {
      "image/png": "[encoded data removed]",
      "text/plain": [
       "<Figure size 432x288 with 1 Axes>"
      ]
     },
     "metadata": {
      "needs_background": "light"
     },
     "output_type": "display_data"
    }
   ],
   "source": [
    "from matplotlib import pyplot\n",
    "pyplot.plot(history.history['loss'], label='train')\n",
    "pyplot.plot(history.history['val_loss'], label='test')\n",
    "pyplot.legend()\n",
    "pyplot.show()"
   ]
  },
  {
   "cell_type": "code",
   "execution_count": 34,
   "id": "3a6f3297",
   "metadata": {
    "execution": {
     "iopub.execute_input": "2022-05-17T02:30:30.222723Z",
     "iopub.status.busy": "2022-05-17T02:30:30.222461Z",
     "iopub.status.idle": "2022-05-17T02:30:30.226190Z",
     "shell.execute_reply": "2022-05-17T02:30:30.225512Z"
    },
    "papermill": {
     "duration": 1.438792,
     "end_time": "2022-05-17T02:30:30.227887",
     "exception": false,
     "start_time": "2022-05-17T02:30:28.789095",
     "status": "completed"
    },
    "tags": []
   },
   "outputs": [],
   "source": [
    "reverse_target_word_index=y_tokenizer.index_word\n",
    "reverse_source_word_index=x_tokenizer.index_word\n",
    "target_word_index=y_tokenizer.word_index"
   ]
  },
  {
   "cell_type": "code",
   "execution_count": 35,
   "id": "b692d4f9",
   "metadata": {
    "execution": {
     "iopub.execute_input": "2022-05-17T02:30:33.014293Z",
     "iopub.status.busy": "2022-05-17T02:30:33.014032Z",
     "iopub.status.idle": "2022-05-17T02:30:33.124612Z",
     "shell.execute_reply": "2022-05-17T02:30:33.123932Z"
    },
    "papermill": {
     "duration": 1.484325,
     "end_time": "2022-05-17T02:30:33.126556",
     "exception": false,
     "start_time": "2022-05-17T02:30:31.642231",
     "status": "completed"
    },
    "tags": []
   },
   "outputs": [],
   "source": [
    "# Encode the input sequence to get the feature vector\n",
    "encoder_model = Model(inputs=encoder_inputs,outputs=[encoder_outputs, state_h, state_c])\n",
    "\n",
    "# Decoder setup\n",
    "# Below tensors will hold the states of the previous time step\n",
    "decoder_state_input_h = Input(shape=(latent_dim,))\n",
    "decoder_state_input_c = Input(shape=(latent_dim,))\n",
    "decoder_hidden_state_input = Input(shape=(max_text_len,latent_dim))\n",
    "\n",
    "# Get the embeddings of the decoder sequence\n",
    "dec_emb2= dec_emb_layer(decoder_inputs) \n",
    "# To predict the next word in the sequence, set the initial states to the states from the previous time step\n",
    "decoder_outputs2, state_h2, state_c2 = decoder_lstm(dec_emb2, initial_state=[decoder_state_input_h, decoder_state_input_c])\n",
    "\n",
    "# A dense softmax layer to generate prob dist. over the target vocabulary\n",
    "decoder_outputs2 = decoder_dense(decoder_outputs2) \n",
    "\n",
    "# Final decoder model\n",
    "decoder_model = Model(\n",
    "    [decoder_inputs] + [decoder_hidden_state_input,decoder_state_input_h, decoder_state_input_c],\n",
    "    [decoder_outputs2] + [state_h2, state_c2])"
   ]
  },
  {
   "cell_type": "code",
   "execution_count": 36,
   "id": "0f6824c2",
   "metadata": {
    "execution": {
     "iopub.execute_input": "2022-05-17T02:30:36.457504Z",
     "iopub.status.busy": "2022-05-17T02:30:36.457217Z",
     "iopub.status.idle": "2022-05-17T02:30:36.465785Z",
     "shell.execute_reply": "2022-05-17T02:30:36.464968Z"
    },
    "papermill": {
     "duration": 1.848125,
     "end_time": "2022-05-17T02:30:36.467836",
     "exception": false,
     "start_time": "2022-05-17T02:30:34.619711",
     "status": "completed"
    },
    "tags": []
   },
   "outputs": [],
   "source": [
    "def decode_sequence(input_seq):\n",
    "    # Encode the input as state vectors.\n",
    "    e_out, e_h, e_c = encoder_model.predict(input_seq)\n",
    "    \n",
    "    # Generate empty target sequence of length 1.\n",
    "    target_seq = np.zeros((1,1))\n",
    "    \n",
    "    # Populate the first word of target sequence with the start word.\n",
    "    target_seq[0, 0] = target_word_index['sostok']\n",
    "\n",
    "    stop_condition = False\n",
    "    decoded_sentence = ''\n",
    "    while not stop_condition:\n",
    "      \n",
    "        output_tokens, h, c = decoder_model.predict([target_seq] + [e_out, e_h, e_c])\n",
    "\n",
    "        # Sample a token\n",
    "        sampled_token_index = np.argmax(output_tokens[0, -1, :])\n",
    "        sampled_token = reverse_target_word_index[sampled_token_index]\n",
    "        \n",
    "        if(sampled_token!='eostok'):\n",
    "            decoded_sentence += ' '+sampled_token\n",
    "\n",
    "        # Exit condition: either hit max length or find stop word.\n",
    "        if (sampled_token == 'eostok'  or len(decoded_sentence.split()) >= (max_summary_len-1)):\n",
    "            stop_condition = True\n",
    "\n",
    "        # Update the target sequence (of length 1).\n",
    "        target_seq = np.zeros((1,1))\n",
    "        target_seq[0, 0] = sampled_token_index\n",
    "\n",
    "        # Update internal states\n",
    "        e_h, e_c = h, c\n",
    "\n",
    "    return decoded_sentence"
   ]
  },
  {
   "cell_type": "code",
   "execution_count": 37,
   "id": "80965850",
   "metadata": {
    "execution": {
     "iopub.execute_input": "2022-05-17T02:30:39.747948Z",
     "iopub.status.busy": "2022-05-17T02:30:39.747672Z",
     "iopub.status.idle": "2022-05-17T02:30:39.753055Z",
     "shell.execute_reply": "2022-05-17T02:30:39.752361Z"
    },
    "papermill": {
     "duration": 1.393575,
     "end_time": "2022-05-17T02:30:39.754709",
     "exception": false,
     "start_time": "2022-05-17T02:30:38.361134",
     "status": "completed"
    },
    "tags": []
   },
   "outputs": [],
   "source": [
    "def seq2summary(input_seq):\n",
    "    newString=''\n",
    "    for i in input_seq:\n",
    "        if((i!=0 and i!=target_word_index['sostok']) and i!=target_word_index['eostok']):\n",
    "            newString=newString+reverse_target_word_index[i]+' '\n",
    "    return newString\n",
    "\n",
    "def seq2text(input_seq):\n",
    "    newString=''\n",
    "    for i in input_seq:\n",
    "        if(i!=0):\n",
    "            newString=newString+reverse_source_word_index[i]+' '\n",
    "    return newString"
   ]
  },
  {
   "cell_type": "code",
   "execution_count": 38,
   "id": "249be18a",
   "metadata": {
    "execution": {
     "iopub.execute_input": "2022-05-17T02:30:42.610148Z",
     "iopub.status.busy": "2022-05-17T02:30:42.609877Z",
     "iopub.status.idle": "2022-05-17T02:30:52.157701Z",
     "shell.execute_reply": "2022-05-17T02:30:52.156917Z"
    },
    "papermill": {
     "duration": 10.934668,
     "end_time": "2022-05-17T02:30:52.160224",
     "exception": false,
     "start_time": "2022-05-17T02:30:41.225556",
     "status": "completed"
    },
    "tags": []
   },
   "outputs": [
    {
     "name": "stdout",
     "output_type": "stream",
     "text": [
      "Review: tổng thống mỹ donald trump tôi hy vọng ông trump bị ám sát maria thượng nghị sĩ đảng dân chủ của bang missouri hôm 17 8 đăng một bình luận trên facebook theo báo st louis post dispatch dù bà sau đó xoá thông điệp và xin lỗi về ngôn từ nó vẫn bị xem xét văn phòng mật vụ st louis field đang xem xét các bình luận cnn dẫn lời cathy phát ngôn viên mật vụ cho biết mật vụ điều tra tất cả những lời đe doạ tổng thống phó tổng thống và những người được bảo vệ khác dù đó là lời trực diện ám chỉ hay bình luận thoáng qua cho biết bà đăng bình luận do thất vọng với môi trường chính trị hiện nay không tôi không muốn thấy ai bị ám sát nhưng ông ấy không nên làm tổng thống ông ấy cần bị luận tội bà nói với ai đó đăng lên facebook của tôi và tôi đáp lại bằng điều đáng lẽ không nên đăng lên đó các nhà lập pháp bang nhanh chóng phản ứng trước phát ngôn và kêu gọi bà từ chức claire thượng nghị sĩ bang missouri theo đảng dân chủ tuyên bố tôi lên án điều đó điều đó là sự xúc phạm và bà nên từ chức eric thống đốc missouri theo đảng cộng hoà cũng đề nghị bà từ chức chúng ta có thể có những khác biệt đất nước này nhưng không ai nên khuyến khích bạo lực chính trị thượng nghị sĩ nên từ chức tuy nhiên bà bác bỏ khả năng này trong thông điệp twitter bình luận gây tranh cãi của bà được đưa ra trong bối cảnh nước mỹ trải qua một tuần chia rẽ và hỗn loạn sau vụ bạo lực thành phố charlottesville bang virginia xung quanh một cuộc tuần hành của người theo chủ nghĩa da trắng thượng đẳng hôm 12 8 một ôtô đâm vào đám đông người biểu tình phản đối cuộc tuần hành làm một phụ nữ thiệt mạng và nhiều người bị thương ông trump bị chỉ trích vì phản ứng ban đầu khi lên án bạo lực từ nhiều bên ông sau đó mới lên án cụ thể các nhóm theo chủ nghĩa da trắng thượng đẳng nhưng hôm 15 8 trong cuộc họp báo tại tháp trump new york ông có phát biểu tương tự bình luận ban đầu khi cho rằng cả hai bên phải chịu trách nhiệm cho tình trạng bạo lực trọng giáp tổng thống mỹ donald trump \n",
      "Original summary: start mật vụ mỹ điều tra bình luận trên mạng của một nhà lập pháp bang về mong muốn tổng thống bị ám sát dù bà đã xin lỗi end \n",
      "Predicted summary:  start tổng thống mỹ donald trump đã bị bắt giữ sau khi bị bắt giữ trong cuộc bầu cử tổng thống mỹ donald trump end\n",
      "\n",
      "\n",
      "Review: lúc 18h ngày 8 8 nước lũ từ phía núi theo các con suối đường dân sinh đổ về các khu dân cư ấp cây thông ngoài xã cửa dương mạnh như thác đổ anh vũ đức long ấp cây thông trong tường thuật trực tiếp qua trên tài khoản facebook long solar đây là lần thứ hai chạy lũ trong vòng một tuần nước đang lên mưa to và gió ngày càng mạnh nhà mình cao hơn mặt đường 1m mà giờ nước bắt đầu tràn vào cả nhà di tản cả rồi nhiều bạn đọc mà tuổi trẻ online liên lạc được cho hay mực nước ngập hôm nay đã phá kỷ lục của đợt ngập chưa từng thấy hôm 5 8 phóng viên tuổi trẻ online tại phú quốc ghi nhận các khu vực khu phố 10 thị trấn dương đông ấp bến tràm ấp cây thông trong của xã cửa dương ngập sâu giao thông bị chia cắt hoàn toàn đường 30 4 đoạn ấp suối đá xã dương tơ vốn nằm trên dốc cao cũng chìm trong biển nước đường 30 4 trước chi cục thuế phú quốc chìm trong biển nước ảnh văn tiến nhiều khu vực của xã cửa dương bị nước ngập chia cắt ảnh văn tiến nước tràn vào nhà dân ấp suối đá xã dương tơ ảnh văn tiến \n",
      "Original summary: mưa kéo dài từ khoảng 15h chiều 8 8 đến tối chưa dứt đã khiến nhiều khu vực tại huyện đảo phú quốc kiên giang chìm sâu hơn sau đợt ngập kỷ lục hôm 5 8 end \n",
      "Predicted summary:  start mưa lớn kéo dài khoảng km khiến nhiều người dân xã hội huyện thanh hoá huyện thanh hoá huyện đảo lộc hà tĩnh end\n",
      "\n",
      "\n",
      "Review: châu á atp chia sẻ rất vui mừng khi nhiều cơ quan chức năng cùng lên kế hoạch bảo vệ loài rùa quý hiếm nhất thế giới thị xã sơn tây hà nội đây là hai trong bốn con rùa hoàn kiếm trên thế giới rùa hoàn kiếm mới tìm thấy hồ xuân khanh tại hội nghị chi cục thuỷ sản hà nội đưa ra dự thảo kế hoạch bảo vệ hai rùa hoang dã thị xã sơn tây trong đó nhấn mạnh đến tính cấp bách phải bảo vệ chúng nhiều giải pháp được đưa ra gồm kiểm soát chất lượng nước hồ đánh giá tác động của hoạt động du lịch nông nghiệp ảnh hưởng đến thuỷ sản nói chung và rùa nói riêng tổ chức đoàn tuần tra liên ngành theo dõi ngăn chặn hành vi gây hại cho hồ atp đề nghị giới chức hà nội nên đưa rùa hồ xuân khanh về đồng mô việc di chuyển này là cần thiết bởi nếu để riêng rẽ chúng thì không có nhiều ý nghĩa về bảo tồn atp cho hay trên hồ đồng mô atp đã xây dựng bãi cát kích thước dốc thoai thoải giúp rùa có cơ hội đẻ trứng và có nơi phơi nắng bãi cát nhân tạo tạo trên một hòn đảo nhỏ an toàn giữa hồ và chỉ có thể tiếp cận bằng thuyền nếu đưa rùa xuân khanh về đây thì việc chăm sóc và bảo vệ sẽ thuận tiện hơn quan điểm của atp nhận được sự ủng hộ của ban ngành tuy nhiên theo các đại biểu ban đầu nên bảo tồn nguyên vị vẫn để rùa hồ xuân khanh sau đó mới chuyển vị đưa rùa đến đồng mô khi có thêm bằng chứng về giới tính rùa một số đại biểu lo ngại môi trường nước hồ xuân khanh có thể ô nhiễm gây hại cho động vật do nằm bên cạnh nhà máy xử lý rác sau cuộc họp sở nông nghiệp hà nội sẽ tiếp tục hoàn thiện dự thảo và sớm kiến nghị lên thành phố ban hành kế hoạch bảo vệ hai con rùa hoàn kiếm sơn tây bằng phương pháp kỹ thuật gene môi trường ngày 12 4 chương trình bảo tồn rùa châu á atp công bố phát hiện rùa hoàn kiếm hồ xuân khanh cách hồ đồng mô khoảng 10 km nâng tổng số loài lên bốn con cán bộ atp phải mất năm túc trực bên hồ với nhiều phương pháp mới đưa ra công bố trên rùa hoàn kiếm tên khoa học rafetus swinhoei là loài rùa nguy cấp quý hiếm nhất thế giới đến cuối năm 2016 thế giới chỉ còn ba con được ghi nhận trong đó hai con được nuôi trung quốc một con hoang dã duy nhất được tìm thấy hồ đồng mô năm 2007 rùa rafetus swinhoei sống hồ gươm chết tháng 1 2016 rùa hoàn kiếm mới tìm thấy hồ xuân khanh bãi cát nhân tạo nơi rùa thường xuất hiện đồng mô \n",
      "Original summary: start nếu hai con rùa hoàn kiếm về hồ đồng mô sơn tây hà nội chúng sẽ được chăm sóc bảo vệ và có thể ghép đôi end \n",
      "Predicted summary:  start một số người dân đã được tìm thấy trong một số người dân địa phương đã được tìm thấy thi thể người dân end\n",
      "\n",
      "\n",
      "Review: hai hồ điều hoà cạnh quốc lộ 18a mới được cải tạo tuy nhiên nguồn nước ô nhiễm nghiêm trọng những ngày gần đây cá chết hàng loạt nổi thành mảng ken đặc tại bốn hồ điều hoà khu vực ao cá thuộc phường hùng thắng và phường bãi cháy tp hạ long quảng ninh cá chết chủ yếu là rô phi và đang trong quá trình phân huỷ khiến ruồi nhặng bâu kín bốc lên mùi hôi thối nồng nặc cá chết dạt vào bờ thành từng mảng lớn khu vực cá chết nhiều nhất là hai hồ nằm cạnh con đường đi vào khu vực cái dăm đây là một trong những con đường đẹp nhất của thành phố hạ long vừa được chỉnh trang mở rộng chính quyền địa phương đã nạo vét kè đá trồng cây xung quanh hai hồ này vào đầu năm 2018 với kinh phí hơn 100 tỷ đồng tuy nhiên nguồn nước tại hai hồ hiện ô nhiễm nghiêm trọng trong khi đó bốn hồ điều hoà này thông với nhau bởi hàng chục cống hộp lớn hằng ngày toàn bộ số nước trong hồ lưu thông qua các cống hộp và xả thẳng ra vịnh hạ long nước trong hồ là nước thải sinh hoạt từ các khu dân cư khách sạn nhà hàng xung quanh không được xử lý mà chảy thẳng xuống ông nam phường bãi cháy nói ruồi nhặng bâu kín số cá chết trong hồ ông hoàng quang hải phó chủ tịch ubnd tp hạ long cho biết qua kiểm tra mẫu nước trong hồ cho thấy nguồn nước bị ô nhiễm nhiều chỉ số không đạt tuy nhiên ngoài nguyên nhân nước hồ ô nhiễm ông hải nói cá rô phi chết còn có thể do thời tiết nóng bức nước nông và những hồ này thông với vịnh hạ long nên khi thuỷ triều lên nước mặn chảy vào pha lẫn với nước trong hồ cá rô phi sống nước ngọt khi gặp nước mặn sẽ bị nổ mắt và chết hiện số cá chết đã được chính quyền địa phương cho người vớt mang đi tiêu huỷ hai hồ điều hoà cạnh quốc lộ 18a mới được cải tạo tuy nhiên nguồn nước ô nhiễm nghiêm trọng \n",
      "Original summary: start nguồn nước bị ô nhiễm khiến cá bốn hồ điều hoà rộng hàng chục ha trên địa bàn thành phố hạ long chết hàng loạt end \n",
      "Predicted summary:  start mưa lớn kéo dài khoảng km khiến nhiều người dân huyện quảng lộc quảng nam đã bị sóng cuốn trôi dạt vào bờ biển end\n",
      "\n",
      "\n",
      "Review: nêu trên ban cán sự đảng ubnd tỉnh bắc ninh cũng thiếu kiểm tra đôn đốc dẫn đến việc giao đất một số địa phương thực hiện không thống nhất không đúng quy trình thủ tục ông nguyễn tử quỳnh với cương vị uỷ viên ban cán sự đảng phó chủ tịch ubnd tỉnh bắc ninh nhiệm kỳ 2011 2016 và sau đó là chủ tịch ubnd tỉnh có trách nhiệm đối với các khuyết điểm vi phạm của ban cán sự đảng ubnd tỉnh uỷ ban kiểm tra trung ương yêu cầu ban cán sự đảng ubnd tỉnh bắc ninh và ông nguyễn tử quỳnh nghiêm túc kiểm điểm rút kinh nghiệm sâu sắc đồng thời có biện pháp khắc phục trong thời gian tới uỷ ban kiểm tra trung ương vừa hoàn thành kỳ họp thứ với nhiều nội dung quan trọng uỷ ban kiểm tra trung ương cũng đã công bố kết luận giải quyết tố cáo ông cầm ngọc minh phó bí thư tỉnh uỷ bí thư ban cán sự đảng chủ tịch ubnd tỉnh sơn la kết luận cho hay ông minh đã có khuyết điểm vi phạm trong việc chỉ đạo giao cho một doanh nghiệp thăm dò khai thác cát trên sông mã không đúng trình tự thủ tục theo quy định khuyết điểm vi phạm của ông minh đã được khắc phục kịp thời và chưa gây hậu quả uỷ ban kiểm tra trung ương yêu cầu ông này và các tổ chức cá nhân có liên quan nghiêm túc kiểm điểm rút kinh nghiệm khiển trách nguyên bí thư đảng uỷ ngoài nước cũng theo uỷ ban kiểm tra trung ương thời gian qua ban thường vụ đảng uỷ ngoài nước đã để xảy ra tình trạng nội bộ mất đoàn kết thực hiện không nghiêm nguyên tắc tập trung dân chủ tự phê bình và phê bình trong công tác cán bộ và giải quyết tố cáo có vi phạm khuyết điểm với cương vị là người đứng đầu ông lê dân nguyên bí thư đảng uỷ ngoài nước chịu trách nhiệm chính về những vi phạm khuyết điểm của tập thể ban thường vụ đảng uỷ ngoài nước nhiệm kỳ 2010 2015 ông lê dân chưa thực hiện tốt việc giữ gìn đoàn kết nội bộ chưa thực hiện đúng quy định của đảng nhà nước trong việc bổ nhiệm xử lý kỷ luật cán bộ và giải quyết tố cáo vi phạm khuyết điểm nêu trên đã ảnh hưởng đến vai trò lãnh đạo và uy tín của ban thường vụ đảng uỷ ngoài nước và cá nhân ông lê dân tạo dư luận không tốt trong cơ quan uỷ ban kiểm tra trung ương quyết định khiển trách ông lê dân đồng thời đề nghị ban bí thư xem xét thi hành kỷ luật khiển trách đối với ban thường vụ đảng uỷ ngoài nước nhiệm kỳ 2010 2015 xuân hoa uỷ ban kiểm tra trung ương vừa hoàn thành kỳ họp thứ với nhiều nội dung quan trọng \n",
      "Original summary: đạo ubnd tỉnh sơn la có khuyết điểm vi phạm trong việc chỉ đạo giao cho một doanh nghiệp thăm dò khai thác cát trên sông mã không đúng trình tự thủ tục theo quy định end \n",
      "Predicted summary:  start ông nguyễn xuân phúc đã có buổi làm việc với các cơ quan chức năng tỉnh uỷ viên thanh tra chính phủ về việc làm rõ trách nhiệm của ông end\n",
      "\n",
      "\n"
     ]
    }
   ],
   "source": [
    "for i in range(0,5):\n",
    "    print(\"Review:\",seq2text(x_tr[i]))\n",
    "    print(\"Original summary:\",seq2summary(y_tr[i]))\n",
    "    print(\"Predicted summary:\",decode_sequence(x_tr[i].reshape(1,max_text_len)))\n",
    "    print(\"\\n\")"
   ]
  }
 ],
 "metadata": {
  "kernelspec": {
   "display_name": "Python 3",
   "language": "python",
   "name": "python3"
  },
  "language_info": {
   "codemirror_mode": {
    "name": "ipython",
    "version": 3
   },
   "file_extension": ".py",
   "mimetype": "text/x-python",
   "name": "python",
   "nbconvert_exporter": "python",
   "pygments_lexer": "ipython3",
   "version": "3.7.12"
  },
  "papermill": {
   "default_parameters": {},
   "duration": 31414.427349,
   "end_time": "2022-05-17T02:30:56.782697",
   "environment_variables": {},
   "exception": null,
   "input_path": "__notebook__.ipynb",
   "output_path": "__notebook__.ipynb",
   "parameters": {},
   "start_time": "2022-05-16T17:47:22.355348",
   "version": "2.3.4"
  }
 },
 "nbformat": 4,
 "nbformat_minor": 5
}
